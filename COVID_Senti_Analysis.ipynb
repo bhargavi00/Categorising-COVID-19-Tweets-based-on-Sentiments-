{
 "cells": [
  {
   "cell_type": "code",
   "execution_count": null,
   "metadata": {
    "id": "eyqIaXNajSdL"
   },
   "outputs": [],
   "source": [
    "from google.colab import drive\n",
    "drive.mount('/content/drive')"
   ]
  },
  {
   "cell_type": "code",
   "execution_count": 1,
   "metadata": {
    "id": "AGk5AOGRjPGG"
   },
   "outputs": [
    {
     "name": "stdout",
     "output_type": "stream",
     "text": [
      "Collecting spacy\n",
      "  Downloading spacy-2.3.5-cp38-cp38-win_amd64.whl (9.7 MB)\n",
      "Collecting thinc<7.5.0,>=7.4.1\n",
      "  Downloading thinc-7.4.5-cp38-cp38-win_amd64.whl (910 kB)\n",
      "Requirement already satisfied, skipping upgrade: numpy>=1.15.0 in c:\\users\\bharg\\anaconda3\\lib\\site-packages (from spacy) (1.18.5)\n",
      "Collecting catalogue<1.1.0,>=0.0.7\n",
      "  Downloading catalogue-1.0.0-py2.py3-none-any.whl (7.7 kB)\n",
      "Collecting plac<1.2.0,>=0.9.6\n",
      "  Downloading plac-1.1.3-py2.py3-none-any.whl (20 kB)\n",
      "Collecting srsly<1.1.0,>=1.0.2\n",
      "  Downloading srsly-1.0.5-cp38-cp38-win_amd64.whl (178 kB)\n",
      "Collecting blis<0.8.0,>=0.4.0\n",
      "  Downloading blis-0.7.4-cp38-cp38-win_amd64.whl (6.5 MB)\n",
      "Requirement already satisfied, skipping upgrade: setuptools in c:\\users\\bharg\\anaconda3\\lib\\site-packages (from spacy) (49.2.0.post20200714)\n",
      "Collecting cymem<2.1.0,>=2.0.2\n",
      "  Downloading cymem-2.0.5-cp38-cp38-win_amd64.whl (36 kB)\n",
      "Collecting wasabi<1.1.0,>=0.4.0\n",
      "  Downloading wasabi-0.8.0-py3-none-any.whl (23 kB)\n",
      "Requirement already satisfied, skipping upgrade: tqdm<5.0.0,>=4.38.0 in c:\\users\\bharg\\anaconda3\\lib\\site-packages (from spacy) (4.47.0)\n",
      "Collecting preshed<3.1.0,>=3.0.2\n",
      "  Downloading preshed-3.0.5-cp38-cp38-win_amd64.whl (112 kB)\n",
      "Requirement already satisfied, skipping upgrade: requests<3.0.0,>=2.13.0 in c:\\users\\bharg\\anaconda3\\lib\\site-packages (from spacy) (2.24.0)\n",
      "Collecting murmurhash<1.1.0,>=0.28.0\n",
      "  Downloading murmurhash-1.0.5-cp38-cp38-win_amd64.whl (21 kB)\n",
      "Requirement already satisfied, skipping upgrade: chardet<4,>=3.0.2 in c:\\users\\bharg\\anaconda3\\lib\\site-packages (from requests<3.0.0,>=2.13.0->spacy) (3.0.4)\n",
      "Requirement already satisfied, skipping upgrade: urllib3!=1.25.0,!=1.25.1,<1.26,>=1.21.1 in c:\\users\\bharg\\anaconda3\\lib\\site-packages (from requests<3.0.0,>=2.13.0->spacy) (1.25.9)\n",
      "Requirement already satisfied, skipping upgrade: idna<3,>=2.5 in c:\\users\\bharg\\anaconda3\\lib\\site-packages (from requests<3.0.0,>=2.13.0->spacy) (2.10)\n",
      "Requirement already satisfied, skipping upgrade: certifi>=2017.4.17 in c:\\users\\bharg\\anaconda3\\lib\\site-packages (from requests<3.0.0,>=2.13.0->spacy) (2020.6.20)\n",
      "Installing collected packages: cymem, murmurhash, preshed, catalogue, plac, blis, srsly, wasabi, thinc, spacy\n",
      "Successfully installed blis-0.7.4 catalogue-1.0.0 cymem-2.0.5 murmurhash-1.0.5 plac-1.1.3 preshed-3.0.5 spacy-2.3.5 srsly-1.0.5 thinc-7.4.5 wasabi-0.8.0\n",
      "Collecting en_core_web_sm==2.3.1\n",
      "  Downloading https://github.com/explosion/spacy-models/releases/download/en_core_web_sm-2.3.1/en_core_web_sm-2.3.1.tar.gz (12.0 MB)\n",
      "Requirement already satisfied: spacy<2.4.0,>=2.3.0 in c:\\users\\bharg\\anaconda3\\lib\\site-packages (from en_core_web_sm==2.3.1) (2.3.5)\n",
      "Requirement already satisfied: thinc<7.5.0,>=7.4.1 in c:\\users\\bharg\\anaconda3\\lib\\site-packages (from spacy<2.4.0,>=2.3.0->en_core_web_sm==2.3.1) (7.4.5)\n",
      "Requirement already satisfied: catalogue<1.1.0,>=0.0.7 in c:\\users\\bharg\\anaconda3\\lib\\site-packages (from spacy<2.4.0,>=2.3.0->en_core_web_sm==2.3.1) (1.0.0)\n",
      "Requirement already satisfied: preshed<3.1.0,>=3.0.2 in c:\\users\\bharg\\anaconda3\\lib\\site-packages (from spacy<2.4.0,>=2.3.0->en_core_web_sm==2.3.1) (3.0.5)\n",
      "Requirement already satisfied: requests<3.0.0,>=2.13.0 in c:\\users\\bharg\\anaconda3\\lib\\site-packages (from spacy<2.4.0,>=2.3.0->en_core_web_sm==2.3.1) (2.24.0)\n",
      "Requirement already satisfied: wasabi<1.1.0,>=0.4.0 in c:\\users\\bharg\\anaconda3\\lib\\site-packages (from spacy<2.4.0,>=2.3.0->en_core_web_sm==2.3.1) (0.8.0)\n",
      "Requirement already satisfied: numpy>=1.15.0 in c:\\users\\bharg\\anaconda3\\lib\\site-packages (from spacy<2.4.0,>=2.3.0->en_core_web_sm==2.3.1) (1.18.5)\n",
      "Requirement already satisfied: tqdm<5.0.0,>=4.38.0 in c:\\users\\bharg\\anaconda3\\lib\\site-packages (from spacy<2.4.0,>=2.3.0->en_core_web_sm==2.3.1) (4.47.0)\n",
      "Requirement already satisfied: setuptools in c:\\users\\bharg\\anaconda3\\lib\\site-packages (from spacy<2.4.0,>=2.3.0->en_core_web_sm==2.3.1) (49.2.0.post20200714)\n",
      "Requirement already satisfied: blis<0.8.0,>=0.4.0 in c:\\users\\bharg\\anaconda3\\lib\\site-packages (from spacy<2.4.0,>=2.3.0->en_core_web_sm==2.3.1) (0.7.4)\n",
      "Requirement already satisfied: murmurhash<1.1.0,>=0.28.0 in c:\\users\\bharg\\anaconda3\\lib\\site-packages (from spacy<2.4.0,>=2.3.0->en_core_web_sm==2.3.1) (1.0.5)\n",
      "Requirement already satisfied: srsly<1.1.0,>=1.0.2 in c:\\users\\bharg\\anaconda3\\lib\\site-packages (from spacy<2.4.0,>=2.3.0->en_core_web_sm==2.3.1) (1.0.5)\n",
      "Requirement already satisfied: plac<1.2.0,>=0.9.6 in c:\\users\\bharg\\anaconda3\\lib\\site-packages (from spacy<2.4.0,>=2.3.0->en_core_web_sm==2.3.1) (1.1.3)\n",
      "Requirement already satisfied: cymem<2.1.0,>=2.0.2 in c:\\users\\bharg\\anaconda3\\lib\\site-packages (from spacy<2.4.0,>=2.3.0->en_core_web_sm==2.3.1) (2.0.5)\n",
      "Requirement already satisfied: certifi>=2017.4.17 in c:\\users\\bharg\\anaconda3\\lib\\site-packages (from requests<3.0.0,>=2.13.0->spacy<2.4.0,>=2.3.0->en_core_web_sm==2.3.1) (2020.6.20)\n",
      "Requirement already satisfied: chardet<4,>=3.0.2 in c:\\users\\bharg\\anaconda3\\lib\\site-packages (from requests<3.0.0,>=2.13.0->spacy<2.4.0,>=2.3.0->en_core_web_sm==2.3.1) (3.0.4)\n",
      "Requirement already satisfied: idna<3,>=2.5 in c:\\users\\bharg\\anaconda3\\lib\\site-packages (from requests<3.0.0,>=2.13.0->spacy<2.4.0,>=2.3.0->en_core_web_sm==2.3.1) (2.10)\n",
      "Requirement already satisfied: urllib3!=1.25.0,!=1.25.1,<1.26,>=1.21.1 in c:\\users\\bharg\\anaconda3\\lib\\site-packages (from requests<3.0.0,>=2.13.0->spacy<2.4.0,>=2.3.0->en_core_web_sm==2.3.1) (1.25.9)\n",
      "Building wheels for collected packages: en-core-web-sm\n",
      "  Building wheel for en-core-web-sm (setup.py): started\n",
      "  Building wheel for en-core-web-sm (setup.py): finished with status 'done'\n",
      "  Created wheel for en-core-web-sm: filename=en_core_web_sm-2.3.1-py3-none-any.whl size=12047114 sha256=2b59909b82771e0636d5f0143691c216476ad94936e989276b0c955bc53ee661\n",
      "  Stored in directory: C:\\Users\\bharg\\AppData\\Local\\Temp\\pip-ephem-wheel-cache-81e7i8vi\\wheels\\ee\\4d\\f7\\563214122be1540b5f9197b52cb3ddb9c4a8070808b22d5a84\n",
      "Successfully built en-core-web-sm\n",
      "Installing collected packages: en-core-web-sm\n",
      "Successfully installed en-core-web-sm-2.3.1\n",
      "[+] Download and installation successful\n",
      "You can now load the model via spacy.load('en_core_web_sm')\n",
      "[x] Couldn't link model to 'en'\n",
      "Creating a symlink in spacy/data failed. Make sure you have the required\n",
      "permissions and try re-running the command as admin, or use a virtualenv. You\n",
      "can still import the model as a module and call its load() method, or create the\n",
      "symlink manually.\n",
      "C:\\Users\\bharg\\anaconda3\\lib\\site-packages\\en_core_web_sm -->\n",
      "C:\\Users\\bharg\\anaconda3\\lib\\site-packages\\spacy\\data\\en\n",
      "[!] Download successful but linking failed\n",
      "Creating a shortcut link for 'en' didn't work (maybe you don't have admin\n",
      "permissions?), but you can still load the model via its full package name: nlp =\n",
      "spacy.load('en_core_web_sm')\n"
     ]
    },
    {
     "name": "stderr",
     "output_type": "stream",
     "text": [
      "You do not have sufficient privilege to perform this operation.\n"
     ]
    },
    {
     "name": "stdout",
     "output_type": "stream",
     "text": [
      "Requirement already satisfied: nltk in c:\\users\\bharg\\anaconda3\\lib\\site-packages (3.5)\n",
      "Requirement already satisfied: joblib in c:\\users\\bharg\\anaconda3\\lib\\site-packages (from nltk) (0.16.0)\n",
      "Requirement already satisfied: click in c:\\users\\bharg\\anaconda3\\lib\\site-packages (from nltk) (7.1.2)\n",
      "Requirement already satisfied: regex in c:\\users\\bharg\\anaconda3\\lib\\site-packages (from nltk) (2020.6.8)\n",
      "Requirement already satisfied: tqdm in c:\\users\\bharg\\anaconda3\\lib\\site-packages (from nltk) (4.47.0)\n"
     ]
    },
    {
     "name": "stderr",
     "output_type": "stream",
     "text": [
      "[nltk_data] Downloading package averaged_perceptron_tagger to\n",
      "[nltk_data]     C:\\Users\\bharg\\AppData\\Roaming\\nltk_data...\n",
      "[nltk_data]   Unzipping taggers\\averaged_perceptron_tagger.zip.\n",
      "[nltk_data] Downloading package punkt to\n",
      "[nltk_data]     C:\\Users\\bharg\\AppData\\Roaming\\nltk_data...\n",
      "[nltk_data]   Package punkt is already up-to-date!\n"
     ]
    },
    {
     "data": {
      "text/plain": [
       "True"
      ]
     },
     "execution_count": 1,
     "metadata": {},
     "output_type": "execute_result"
    }
   ],
   "source": [
    "!pip install -U spacy\n",
    "!python -m spacy download en\n",
    "!pip install nltk\n",
    "import nltk\n",
    "nltk.download('averaged_perceptron_tagger')\n",
    "nltk.download('punkt')"
   ]
  },
  {
   "cell_type": "markdown",
   "metadata": {
    "id": "kpdNCD9inWZn"
   },
   "source": [
    "# Getting Data using API"
   ]
  },
  {
   "cell_type": "code",
   "execution_count": 2,
   "metadata": {
    "id": "vTYcAre7N7P8"
   },
   "outputs": [],
   "source": [
    "ACCESS_TOKEN = \"1142785474823520256-MtidVyBUmYopbrIC6hONNkRp4uWQQM\"\n",
    "ACCESS_TOKEN_SECRET = \"7ZegrasMmeia4FX3jpXIoP3u9TnF2SpjbSf2NI0aF3t6g\"\n",
    "CONSUMER_KEY = \"ouBy4vNEAFFBeZnpcwe0QZkiU\"\n",
    "CONSUMER_SECRET = \"KuNo0hphQD4tej9YMNZGjAaVLJHIByUgqVIhJjYVY79ZZHuvQK\""
   ]
  },
  {
   "cell_type": "code",
   "execution_count": 4,
   "metadata": {},
   "outputs": [
    {
     "name": "stdout",
     "output_type": "stream",
     "text": [
      "Collecting tweepy\n",
      "  Downloading tweepy-3.10.0-py2.py3-none-any.whl (30 kB)\n",
      "Requirement already satisfied: six>=1.10.0 in c:\\users\\bharg\\anaconda3\\lib\\site-packages (from tweepy) (1.15.0)\n",
      "Collecting requests-oauthlib>=0.7.0\n",
      "  Downloading requests_oauthlib-1.3.0-py2.py3-none-any.whl (23 kB)\n",
      "Requirement already satisfied: requests[socks]>=2.11.1 in c:\\users\\bharg\\anaconda3\\lib\\site-packages (from tweepy) (2.24.0)\n",
      "Collecting oauthlib>=3.0.0\n",
      "  Downloading oauthlib-3.1.0-py2.py3-none-any.whl (147 kB)\n",
      "Requirement already satisfied: urllib3!=1.25.0,!=1.25.1,<1.26,>=1.21.1 in c:\\users\\bharg\\anaconda3\\lib\\site-packages (from requests[socks]>=2.11.1->tweepy) (1.25.9)\n",
      "Requirement already satisfied: idna<3,>=2.5 in c:\\users\\bharg\\anaconda3\\lib\\site-packages (from requests[socks]>=2.11.1->tweepy) (2.10)\n",
      "Requirement already satisfied: chardet<4,>=3.0.2 in c:\\users\\bharg\\anaconda3\\lib\\site-packages (from requests[socks]>=2.11.1->tweepy) (3.0.4)\n",
      "Requirement already satisfied: certifi>=2017.4.17 in c:\\users\\bharg\\anaconda3\\lib\\site-packages (from requests[socks]>=2.11.1->tweepy) (2020.6.20)\n",
      "Requirement already satisfied: PySocks!=1.5.7,>=1.5.6; extra == \"socks\" in c:\\users\\bharg\\anaconda3\\lib\\site-packages (from requests[socks]>=2.11.1->tweepy) (1.7.1)\n",
      "Installing collected packages: oauthlib, requests-oauthlib, tweepy\n",
      "Successfully installed oauthlib-3.1.0 requests-oauthlib-1.3.0 tweepy-3.10.0\n",
      "Note: you may need to restart the kernel to use updated packages.\n"
     ]
    }
   ],
   "source": [
    "pip install tweepy"
   ]
  },
  {
   "cell_type": "code",
   "execution_count": 5,
   "metadata": {
    "id": "uiWNrdKOmFWC"
   },
   "outputs": [
    {
     "ename": "UnicodeEncodeError",
     "evalue": "'charmap' codec can't encode characters in position 120-121: character maps to <undefined>",
     "output_type": "error",
     "traceback": [
      "\u001b[1;31m---------------------------------------------------------------------------\u001b[0m",
      "\u001b[1;31mUnicodeEncodeError\u001b[0m                        Traceback (most recent call last)",
      "\u001b[1;32m<ipython-input-5-d8855e25efb0>\u001b[0m in \u001b[0;36m<module>\u001b[1;34m\u001b[0m\n\u001b[0;32m     14\u001b[0m \u001b[1;32mfor\u001b[0m \u001b[0mhash_tag\u001b[0m \u001b[1;32min\u001b[0m \u001b[0mhash_tag_list\u001b[0m\u001b[1;33m:\u001b[0m\u001b[1;33m\u001b[0m\u001b[1;33m\u001b[0m\u001b[0m\n\u001b[0;32m     15\u001b[0m   \u001b[1;32mfor\u001b[0m \u001b[0mtweet\u001b[0m \u001b[1;32min\u001b[0m \u001b[0mtweepy\u001b[0m\u001b[1;33m.\u001b[0m\u001b[0mCursor\u001b[0m\u001b[1;33m(\u001b[0m\u001b[0mapi\u001b[0m\u001b[1;33m.\u001b[0m\u001b[0msearch\u001b[0m\u001b[1;33m,\u001b[0m \u001b[0mq\u001b[0m\u001b[1;33m=\u001b[0m\u001b[0mhash_tag\u001b[0m \u001b[1;33m+\u001b[0m\u001b[1;34m\" -filter:retweets\"\u001b[0m\u001b[1;33m,\u001b[0m \u001b[0mlang\u001b[0m\u001b[1;33m=\u001b[0m\u001b[1;34m\"en\"\u001b[0m\u001b[1;33m)\u001b[0m\u001b[1;33m.\u001b[0m\u001b[0mitems\u001b[0m\u001b[1;33m(\u001b[0m\u001b[1;36m1000\u001b[0m\u001b[1;33m)\u001b[0m\u001b[1;33m:\u001b[0m\u001b[1;33m\u001b[0m\u001b[1;33m\u001b[0m\u001b[0m\n\u001b[1;32m---> 16\u001b[1;33m     \u001b[0mcsvWriter\u001b[0m\u001b[1;33m.\u001b[0m\u001b[0mwriterow\u001b[0m\u001b[1;33m(\u001b[0m\u001b[1;33m[\u001b[0m\u001b[0mtweet\u001b[0m\u001b[1;33m.\u001b[0m\u001b[0mcreated_at\u001b[0m\u001b[1;33m,\u001b[0m \u001b[0mtweet\u001b[0m\u001b[1;33m.\u001b[0m\u001b[0mtext\u001b[0m\u001b[1;33m,\u001b[0m \u001b[0mhash_tag\u001b[0m\u001b[1;33m]\u001b[0m\u001b[1;33m)\u001b[0m\u001b[1;33m\u001b[0m\u001b[1;33m\u001b[0m\u001b[0m\n\u001b[0m",
      "\u001b[1;32m~\\anaconda3\\lib\\encodings\\cp1252.py\u001b[0m in \u001b[0;36mencode\u001b[1;34m(self, input, final)\u001b[0m\n\u001b[0;32m     17\u001b[0m \u001b[1;32mclass\u001b[0m \u001b[0mIncrementalEncoder\u001b[0m\u001b[1;33m(\u001b[0m\u001b[0mcodecs\u001b[0m\u001b[1;33m.\u001b[0m\u001b[0mIncrementalEncoder\u001b[0m\u001b[1;33m)\u001b[0m\u001b[1;33m:\u001b[0m\u001b[1;33m\u001b[0m\u001b[1;33m\u001b[0m\u001b[0m\n\u001b[0;32m     18\u001b[0m     \u001b[1;32mdef\u001b[0m \u001b[0mencode\u001b[0m\u001b[1;33m(\u001b[0m\u001b[0mself\u001b[0m\u001b[1;33m,\u001b[0m \u001b[0minput\u001b[0m\u001b[1;33m,\u001b[0m \u001b[0mfinal\u001b[0m\u001b[1;33m=\u001b[0m\u001b[1;32mFalse\u001b[0m\u001b[1;33m)\u001b[0m\u001b[1;33m:\u001b[0m\u001b[1;33m\u001b[0m\u001b[1;33m\u001b[0m\u001b[0m\n\u001b[1;32m---> 19\u001b[1;33m         \u001b[1;32mreturn\u001b[0m \u001b[0mcodecs\u001b[0m\u001b[1;33m.\u001b[0m\u001b[0mcharmap_encode\u001b[0m\u001b[1;33m(\u001b[0m\u001b[0minput\u001b[0m\u001b[1;33m,\u001b[0m\u001b[0mself\u001b[0m\u001b[1;33m.\u001b[0m\u001b[0merrors\u001b[0m\u001b[1;33m,\u001b[0m\u001b[0mencoding_table\u001b[0m\u001b[1;33m)\u001b[0m\u001b[1;33m[\u001b[0m\u001b[1;36m0\u001b[0m\u001b[1;33m]\u001b[0m\u001b[1;33m\u001b[0m\u001b[1;33m\u001b[0m\u001b[0m\n\u001b[0m\u001b[0;32m     20\u001b[0m \u001b[1;33m\u001b[0m\u001b[0m\n\u001b[0;32m     21\u001b[0m \u001b[1;32mclass\u001b[0m \u001b[0mIncrementalDecoder\u001b[0m\u001b[1;33m(\u001b[0m\u001b[0mcodecs\u001b[0m\u001b[1;33m.\u001b[0m\u001b[0mIncrementalDecoder\u001b[0m\u001b[1;33m)\u001b[0m\u001b[1;33m:\u001b[0m\u001b[1;33m\u001b[0m\u001b[1;33m\u001b[0m\u001b[0m\n",
      "\u001b[1;31mUnicodeEncodeError\u001b[0m: 'charmap' codec can't encode characters in position 120-121: character maps to <undefined>"
     ]
    }
   ],
   "source": [
    "import tweepy\n",
    "import csv\n",
    "\n",
    "auth = tweepy.OAuthHandler(CONSUMER_KEY, CONSUMER_SECRET)\n",
    "auth.set_access_token(ACCESS_TOKEN, ACCESS_TOKEN_SECRET)\n",
    "api = tweepy.API(auth,wait_on_rate_limit=True)\n",
    "\n",
    "csvFile = open('data.csv', 'w')\n",
    "csvWriter = csv.writer(csvFile)\n",
    "\n",
    "hash_tag_list = [\"#coronavirus\", \"#quarantine\", \"#lockdown\", \"#wearamask\", \"#covid19\", \"#pandemic\", \"#socialdistancing\", \n",
    "                  \"#coronavirusoutbreak\",\"#stayhome\", \"#workfromhome\", \"#staysafe\", \"#coronavaccine\"]\n",
    "\n",
    "for hash_tag in hash_tag_list:\n",
    "  for tweet in tweepy.Cursor(api.search, q=hash_tag +\" -filter:retweets\", lang=\"en\").items(1000):\n",
    "    csvWriter.writerow([tweet.created_at, tweet.text, hash_tag]) "
   ]
  },
  {
   "cell_type": "code",
   "execution_count": 1,
   "metadata": {
    "id": "h_IvGidum1uB"
   },
   "outputs": [],
   "source": [
    "import pandas as pd\n",
    "data = pd.read_csv('data.csv', header=None)"
   ]
  },
  {
   "cell_type": "code",
   "execution_count": 2,
   "metadata": {
    "colab": {
     "base_uri": "https://localhost:8080/"
    },
    "id": "VUoBroz8nNnY",
    "outputId": "9415a464-c020-40e1-c94e-24d608d199b2"
   },
   "outputs": [
    {
     "data": {
      "text/html": [
       "<div>\n",
       "<style scoped>\n",
       "    .dataframe tbody tr th:only-of-type {\n",
       "        vertical-align: middle;\n",
       "    }\n",
       "\n",
       "    .dataframe tbody tr th {\n",
       "        vertical-align: top;\n",
       "    }\n",
       "\n",
       "    .dataframe thead th {\n",
       "        text-align: right;\n",
       "    }\n",
       "</style>\n",
       "<table border=\"1\" class=\"dataframe\">\n",
       "  <thead>\n",
       "    <tr style=\"text-align: right;\">\n",
       "      <th></th>\n",
       "      <th>0</th>\n",
       "      <th>1</th>\n",
       "      <th>2</th>\n",
       "    </tr>\n",
       "  </thead>\n",
       "  <tbody>\n",
       "    <tr>\n",
       "      <th>0</th>\n",
       "      <td>2020-08-23 08:23:04</td>\n",
       "      <td>Come What May !\\n#sundayvibes #SundayMorning #...</td>\n",
       "      <td>#coronavirus</td>\n",
       "    </tr>\n",
       "    <tr>\n",
       "      <th>1</th>\n",
       "      <td>2020-08-23 08:23:01</td>\n",
       "      <td>47-year-old  with heart condition has died due...</td>\n",
       "      <td>#coronavirus</td>\n",
       "    </tr>\n",
       "    <tr>\n",
       "      <th>2</th>\n",
       "      <td>2020-08-23 08:22:53</td>\n",
       "      <td>#Coronavirus : New £10,000 fines for organiser...</td>\n",
       "      <td>#coronavirus</td>\n",
       "    </tr>\n",
       "    <tr>\n",
       "      <th>3</th>\n",
       "      <td>2020-08-23 08:22:40</td>\n",
       "      <td>#Devotees flout #SocialDistancing norms while ...</td>\n",
       "      <td>#coronavirus</td>\n",
       "    </tr>\n",
       "    <tr>\n",
       "      <th>4</th>\n",
       "      <td>2020-08-23 08:22:36</td>\n",
       "      <td>ICYMI: President Trump today will hold a press...</td>\n",
       "      <td>#coronavirus</td>\n",
       "    </tr>\n",
       "  </tbody>\n",
       "</table>\n",
       "</div>"
      ],
      "text/plain": [
       "                     0                                                  1  \\\n",
       "0  2020-08-23 08:23:04  Come What May !\\n#sundayvibes #SundayMorning #...   \n",
       "1  2020-08-23 08:23:01  47-year-old  with heart condition has died due...   \n",
       "2  2020-08-23 08:22:53  #Coronavirus : New £10,000 fines for organiser...   \n",
       "3  2020-08-23 08:22:40  #Devotees flout #SocialDistancing norms while ...   \n",
       "4  2020-08-23 08:22:36  ICYMI: President Trump today will hold a press...   \n",
       "\n",
       "              2  \n",
       "0  #coronavirus  \n",
       "1  #coronavirus  \n",
       "2  #coronavirus  \n",
       "3  #coronavirus  \n",
       "4  #coronavirus  "
      ]
     },
     "execution_count": 2,
     "metadata": {},
     "output_type": "execute_result"
    }
   ],
   "source": [
    "data.head()"
   ]
  },
  {
   "cell_type": "markdown",
   "metadata": {
    "id": "gLof7smonfTN"
   },
   "source": [
    "# Preprocessing"
   ]
  },
  {
   "cell_type": "code",
   "execution_count": 3,
   "metadata": {
    "id": "fym2jxj0ozph"
   },
   "outputs": [],
   "source": [
    "data.columns = ['Datetime', 'Tweet', 'Hashtag']"
   ]
  },
  {
   "cell_type": "code",
   "execution_count": 4,
   "metadata": {
    "colab": {
     "base_uri": "https://localhost:8080/"
    },
    "id": "vcxWOIlurvHy",
    "outputId": "54716ed5-cddf-4b07-9fc7-12c958beb6ba"
   },
   "outputs": [
    {
     "data": {
      "text/html": [
       "<div>\n",
       "<style scoped>\n",
       "    .dataframe tbody tr th:only-of-type {\n",
       "        vertical-align: middle;\n",
       "    }\n",
       "\n",
       "    .dataframe tbody tr th {\n",
       "        vertical-align: top;\n",
       "    }\n",
       "\n",
       "    .dataframe thead th {\n",
       "        text-align: right;\n",
       "    }\n",
       "</style>\n",
       "<table border=\"1\" class=\"dataframe\">\n",
       "  <thead>\n",
       "    <tr style=\"text-align: right;\">\n",
       "      <th></th>\n",
       "      <th>Datetime</th>\n",
       "      <th>Tweet</th>\n",
       "      <th>Hashtag</th>\n",
       "    </tr>\n",
       "  </thead>\n",
       "  <tbody>\n",
       "    <tr>\n",
       "      <th>0</th>\n",
       "      <td>2020-08-23 08:23:04</td>\n",
       "      <td>Come What May !\\n#sundayvibes #SundayMorning #...</td>\n",
       "      <td>#coronavirus</td>\n",
       "    </tr>\n",
       "    <tr>\n",
       "      <th>1</th>\n",
       "      <td>2020-08-23 08:23:01</td>\n",
       "      <td>47-year-old  with heart condition has died due...</td>\n",
       "      <td>#coronavirus</td>\n",
       "    </tr>\n",
       "    <tr>\n",
       "      <th>2</th>\n",
       "      <td>2020-08-23 08:22:53</td>\n",
       "      <td>#Coronavirus : New £10,000 fines for organiser...</td>\n",
       "      <td>#coronavirus</td>\n",
       "    </tr>\n",
       "    <tr>\n",
       "      <th>3</th>\n",
       "      <td>2020-08-23 08:22:40</td>\n",
       "      <td>#Devotees flout #SocialDistancing norms while ...</td>\n",
       "      <td>#coronavirus</td>\n",
       "    </tr>\n",
       "    <tr>\n",
       "      <th>4</th>\n",
       "      <td>2020-08-23 08:22:36</td>\n",
       "      <td>ICYMI: President Trump today will hold a press...</td>\n",
       "      <td>#coronavirus</td>\n",
       "    </tr>\n",
       "    <tr>\n",
       "      <th>5</th>\n",
       "      <td>2020-08-23 08:22:34</td>\n",
       "      <td>@BBCNews Chris Whitty says kids safe at #schoo...</td>\n",
       "      <td>#coronavirus</td>\n",
       "    </tr>\n",
       "    <tr>\n",
       "      <th>6</th>\n",
       "      <td>2020-08-23 08:22:24</td>\n",
       "      <td>#Jordan arrests 1,000 #teachers in crackdown o...</td>\n",
       "      <td>#coronavirus</td>\n",
       "    </tr>\n",
       "    <tr>\n",
       "      <th>7</th>\n",
       "      <td>2020-08-23 08:22:01</td>\n",
       "      <td>I've been on a 14 day quarantine. Let me tell ...</td>\n",
       "      <td>#coronavirus</td>\n",
       "    </tr>\n",
       "    <tr>\n",
       "      <th>8</th>\n",
       "      <td>2020-08-23 08:21:44</td>\n",
       "      <td>I Know I am not alone \\n\\n@PhysicswallahAP #co...</td>\n",
       "      <td>#coronavirus</td>\n",
       "    </tr>\n",
       "    <tr>\n",
       "      <th>9</th>\n",
       "      <td>2020-08-23 08:21:08</td>\n",
       "      <td>Coronavirus - South Africa: Total number of CO...</td>\n",
       "      <td>#coronavirus</td>\n",
       "    </tr>\n",
       "    <tr>\n",
       "      <th>10</th>\n",
       "      <td>2020-08-23 08:20:54</td>\n",
       "      <td>Happy Sunday everyone. I hope you have a restf...</td>\n",
       "      <td>#coronavirus</td>\n",
       "    </tr>\n",
       "    <tr>\n",
       "      <th>11</th>\n",
       "      <td>2020-08-23 08:20:30</td>\n",
       "      <td>\"In the future, I believe this misbegotten epi...</td>\n",
       "      <td>#coronavirus</td>\n",
       "    </tr>\n",
       "    <tr>\n",
       "      <th>12</th>\n",
       "      <td>2020-08-23 08:20:15</td>\n",
       "      <td>#Healthcare \\n#Health \\n#Wellness \\n#WhiteHous...</td>\n",
       "      <td>#coronavirus</td>\n",
       "    </tr>\n",
       "    <tr>\n",
       "      <th>13</th>\n",
       "      <td>2020-08-23 08:20:04</td>\n",
       "      <td>https://t.co/TlstvdVGML: 'There is a sense tha...</td>\n",
       "      <td>#coronavirus</td>\n",
       "    </tr>\n",
       "    <tr>\n",
       "      <th>14</th>\n",
       "      <td>2020-08-23 08:19:57</td>\n",
       "      <td>@kylamb8 @Barnes_Law True the #CFR fatality ra...</td>\n",
       "      <td>#coronavirus</td>\n",
       "    </tr>\n",
       "  </tbody>\n",
       "</table>\n",
       "</div>"
      ],
      "text/plain": [
       "               Datetime                                              Tweet  \\\n",
       "0   2020-08-23 08:23:04  Come What May !\\n#sundayvibes #SundayMorning #...   \n",
       "1   2020-08-23 08:23:01  47-year-old  with heart condition has died due...   \n",
       "2   2020-08-23 08:22:53  #Coronavirus : New £10,000 fines for organiser...   \n",
       "3   2020-08-23 08:22:40  #Devotees flout #SocialDistancing norms while ...   \n",
       "4   2020-08-23 08:22:36  ICYMI: President Trump today will hold a press...   \n",
       "5   2020-08-23 08:22:34  @BBCNews Chris Whitty says kids safe at #schoo...   \n",
       "6   2020-08-23 08:22:24  #Jordan arrests 1,000 #teachers in crackdown o...   \n",
       "7   2020-08-23 08:22:01  I've been on a 14 day quarantine. Let me tell ...   \n",
       "8   2020-08-23 08:21:44  I Know I am not alone \\n\\n@PhysicswallahAP #co...   \n",
       "9   2020-08-23 08:21:08  Coronavirus - South Africa: Total number of CO...   \n",
       "10  2020-08-23 08:20:54  Happy Sunday everyone. I hope you have a restf...   \n",
       "11  2020-08-23 08:20:30  \"In the future, I believe this misbegotten epi...   \n",
       "12  2020-08-23 08:20:15  #Healthcare \\n#Health \\n#Wellness \\n#WhiteHous...   \n",
       "13  2020-08-23 08:20:04  https://t.co/TlstvdVGML: 'There is a sense tha...   \n",
       "14  2020-08-23 08:19:57  @kylamb8 @Barnes_Law True the #CFR fatality ra...   \n",
       "\n",
       "         Hashtag  \n",
       "0   #coronavirus  \n",
       "1   #coronavirus  \n",
       "2   #coronavirus  \n",
       "3   #coronavirus  \n",
       "4   #coronavirus  \n",
       "5   #coronavirus  \n",
       "6   #coronavirus  \n",
       "7   #coronavirus  \n",
       "8   #coronavirus  \n",
       "9   #coronavirus  \n",
       "10  #coronavirus  \n",
       "11  #coronavirus  \n",
       "12  #coronavirus  \n",
       "13  #coronavirus  \n",
       "14  #coronavirus  "
      ]
     },
     "execution_count": 4,
     "metadata": {},
     "output_type": "execute_result"
    }
   ],
   "source": [
    "data.head(15)"
   ]
  },
  {
   "cell_type": "code",
   "execution_count": 5,
   "metadata": {
    "id": "sj-WiwVrry30"
   },
   "outputs": [],
   "source": [
    "from datetime import datetime\n",
    "\n",
    "for i in data.index:\n",
    "  datetime_str = str(data['Datetime'][i])\n",
    "  date_time = datetime.strptime(datetime_str, '%Y-%m-%d %H:%M:%S')\n",
    "  data['Datetime'][i] = date_time"
   ]
  },
  {
   "cell_type": "code",
   "execution_count": 6,
   "metadata": {
    "colab": {
     "base_uri": "https://localhost:8080/"
    },
    "id": "eVpO2LclGwvw",
    "outputId": "deba8960-df39-47f3-fe76-3e4fec82e031"
   },
   "outputs": [
    {
     "name": "stdout",
     "output_type": "stream",
     "text": [
      "#Devotees flout #SocialDistancing norms while immersing #Ganesha idols at #RKBeach in #Vizag.\n",
      "\n",
      "📸| @Gsn_tnie… https://t.co/K3IQIMqBmL\n"
     ]
    }
   ],
   "source": [
    "print(data['Tweet'][3])"
   ]
  },
  {
   "cell_type": "code",
   "execution_count": 7,
   "metadata": {
    "id": "ga7fh9BMxQxA"
   },
   "outputs": [],
   "source": [
    "for i in data.index:\n",
    "  s = data['Tweet'][i]\n",
    "  encoded_string = s.encode(\"ascii\", \"ignore\")\n",
    "  decoded_string = encoded_string.decode()\n",
    "  data['Tweet'][i] = decoded_string"
   ]
  },
  {
   "cell_type": "code",
   "execution_count": 8,
   "metadata": {
    "colab": {
     "base_uri": "https://localhost:8080/"
    },
    "id": "HVQEnVDTHMbo",
    "outputId": "ea4fe745-233e-48d8-9d2b-6205e9945b6f"
   },
   "outputs": [
    {
     "name": "stdout",
     "output_type": "stream",
     "text": [
      "#Devotees flout #SocialDistancing norms while immersing #Ganesha idols at #RKBeach in #Vizag.\n",
      "\n",
      "| @Gsn_tnie https://t.co/K3IQIMqBmL\n"
     ]
    }
   ],
   "source": [
    "print(data['Tweet'][3])"
   ]
  },
  {
   "cell_type": "code",
   "execution_count": 9,
   "metadata": {
    "colab": {
     "base_uri": "https://localhost:8080/"
    },
    "id": "D-pbWFMExSvp",
    "outputId": "27cdd487-29ba-4e54-b3f7-8af72326a28f"
   },
   "outputs": [
    {
     "name": "stdout",
     "output_type": "stream",
     "text": [
      "['i', 'me', 'my', 'myself', 'we', 'our', 'ours', 'ourselves', 'you', \"you're\", \"you've\", \"you'll\", \"you'd\", 'your', 'yours', 'yourself', 'yourselves', 'he', 'him', 'his', 'himself', 'she', \"she's\", 'her', 'hers', 'herself', 'it', \"it's\", 'its', 'itself', 'they', 'them', 'their', 'theirs', 'themselves', 'what', 'which', 'who', 'whom', 'this', 'that', \"that'll\", 'these', 'those', 'am', 'is', 'are', 'was', 'were', 'be', 'been', 'being', 'have', 'has', 'had', 'having', 'do', 'does', 'did', 'doing', 'a', 'an', 'the', 'and', 'but', 'if', 'or', 'because', 'as', 'until', 'while', 'of', 'at', 'by', 'for', 'with', 'about', 'against', 'between', 'into', 'through', 'during', 'before', 'after', 'above', 'below', 'to', 'from', 'up', 'down', 'in', 'out', 'on', 'off', 'over', 'under', 'again', 'further', 'then', 'once', 'here', 'there', 'when', 'where', 'why', 'how', 'all', 'any', 'both', 'each', 'few', 'more', 'most', 'other', 'some', 'such', 'nor', 'only', 'own', 'same', 'so', 'than', 'too', 'very', 's', 't', 'can', 'will', 'just', \"should've\", 'now', 'd', 'll', 'm', 'o', 're', 've', 'y', 'won', '!', '\"', '#', '$', '%', '&', \"'\", '(', ')', '*', '+', ',', '-', '.', '/', ':', ';', '<', '=', '>', '?', '@', '[', '\\\\', ']', '^', '_', '`', '{', '|', '}', '~', '\\n', '\\t', '\\\\s', \"'\", '\"', '\\\\', '\\r', '\\x08', '\\x0c']\n"
     ]
    },
    {
     "name": "stderr",
     "output_type": "stream",
     "text": [
      "[nltk_data] Downloading package stopwords to\n",
      "[nltk_data]     C:\\Users\\bharg\\AppData\\Roaming\\nltk_data...\n",
      "[nltk_data]   Package stopwords is already up-to-date!\n"
     ]
    }
   ],
   "source": [
    "import nltk\n",
    "nltk.download('stopwords')\n",
    "from nltk.corpus import stopwords\n",
    "stop_words = stopwords.words('english')\n",
    "\n",
    "import string\n",
    "punctuation = string.punctuation\n",
    "punctuation = list(punctuation)\n",
    "punctuation = punctuation + [\"\\n\", \"\\t\", \"\\s\", \"\\'\", '\\\"', \"\\\\\", \"\\r\", \"\\b\", \"\\f\"]\n",
    "stop_words = stop_words + punctuation \n",
    "\n",
    "remove_list = [\"no\",\"not\",\"don’t\",\"aren’t\",\"couldn’t\",\"didn’t\",'don', \"don't\", 'should',\"mustn’t\",\"hasn’t\",\"haven’t\",\"doesn’t\",\"hadn’t\", \"isn’t\",\"mightn’t\",\"needn’t\", \"shan’t\", \"shouldn’t\",\"wasn’t\",\"weren’t\",\"won’t\",\"wont\",\"wouldn’t\",\"can’t\",\"don’t\",\"aren’t\",\"couldn’t\",\"didn’t\",\"mustnt\",\"hasnt\",\"havent\",\"doesnt\",\"hadnt\", \"isnt\",\"mightnt\",\"neednt\", \"shant\", \"shouldnt\",\"wasnt\",\"werent\",\"wont\",\"wouldnt\",\"cant\",\"donot\",\"arenot\",\"couldnot\",\"didnot\",\"mustnot\",\"hasnot\",\"havenot\",\"doesnot\",\"hadnot\", \"isnot\",\"mightnot\",\"neednot\", \"shallnot\", \"shouldnot\",\"wasnot\",\"werenot\",\"willnot\",\"wouldnot\",\"cannot\", 'ain', 'aren', \"aren't\", 'couldn', \"couldn't\", 'didn', \"didn't\", 'doesn', \"doesn't\", 'hadn', \"hadn't\", 'hasn', \"hasn't\", 'haven', \"haven't\", 'isn', \"isn't\", 'ma', 'mightn', \"mightn't\", 'mustn', \"mustn't\", 'needn', \"needn't\", 'shan', \"shan't\", 'shouldn', \"shouldn't\", 'wasn', \"wasn't\", 'weren', \"weren't\", \"won't\", 'wouldn', \"wouldn't\",]\n",
    "stop_words = [word for word in stop_words if word not in remove_list]\n",
    "\n",
    "# stop_words.append(\"RT\")\n",
    "print(stop_words)"
   ]
  },
  {
   "cell_type": "code",
   "execution_count": 10,
   "metadata": {
    "id": "4ok1qV2F-lQm"
   },
   "outputs": [],
   "source": [
    "tweet_tokens = [None]*len(data)\n",
    "for i in data.index:\n",
    "  tokens = data['Tweet'][i].split(' ')\n",
    "  ans = []\n",
    "  for w in tokens: \n",
    "    if (w.startswith('http:/') or w.startswith('https:/') or w.startswith('@')):\n",
    "      continue;\n",
    "    for j in punctuation:\n",
    "      if w.find(j) != -1 :\n",
    "        w = w.replace(j , ' ')\n",
    "    if w == \"\" or w == \" \":\n",
    "      continue\n",
    "    if w not in stop_words: \n",
    "      w = w.strip()\n",
    "      ans.append(w)\n",
    "  tweet_tokens[i] = ans"
   ]
  },
  {
   "cell_type": "code",
   "execution_count": 11,
   "metadata": {
    "colab": {
     "base_uri": "https://localhost:8080/"
    },
    "id": "TRuH5eNY7f1b",
    "outputId": "e9950f4c-0cd3-46df-ca36-13dd928afbf2"
   },
   "outputs": [
    {
     "name": "stdout",
     "output_type": "stream",
     "text": [
      "['Devotees', 'flout', 'SocialDistancing', 'norms', 'immersing', 'Ganesha', 'idols', 'RKBeach', 'Vizag']\n"
     ]
    }
   ],
   "source": [
    "print(tweet_tokens[3])"
   ]
  },
  {
   "cell_type": "code",
   "execution_count": 12,
   "metadata": {
    "colab": {
     "base_uri": "https://localhost:8080/"
    },
    "id": "1k44qABmKHxj",
    "outputId": "2f5c1fd6-12f9-423c-d3f6-560a35088e69"
   },
   "outputs": [
    {
     "name": "stderr",
     "output_type": "stream",
     "text": [
      "[nltk_data] Downloading package wordnet to\n",
      "[nltk_data]     C:\\Users\\bharg\\AppData\\Roaming\\nltk_data...\n",
      "[nltk_data]   Package wordnet is already up-to-date!\n"
     ]
    }
   ],
   "source": [
    "nltk.download('wordnet')\n",
    "from nltk.stem import WordNetLemmatizer \n",
    "lemmatizer = WordNetLemmatizer()\n",
    "\n",
    "tweet_lemmatised = [None]*len(data)\n",
    "for i in data.index:\n",
    "  tweet_lemmatised[i] = [None] * len(tweet_tokens[i])\n",
    "  for j in range (len(tweet_tokens[i])):\n",
    "      tweet_lemmatised[i][j] = lemmatizer.lemmatize(tweet_tokens[i][j])"
   ]
  },
  {
   "cell_type": "code",
   "execution_count": 13,
   "metadata": {
    "colab": {
     "base_uri": "https://localhost:8080/"
    },
    "id": "4IydgOeRKjTB",
    "outputId": "4f5548d0-69ce-4c89-ff63-7ca79d952029"
   },
   "outputs": [
    {
     "name": "stdout",
     "output_type": "stream",
     "text": [
      "['Devotees', 'flout', 'SocialDistancing', 'norm', 'immersing', 'Ganesha', 'idol', 'RKBeach', 'Vizag']\n"
     ]
    }
   ],
   "source": [
    "print(tweet_lemmatised[3])"
   ]
  },
  {
   "cell_type": "code",
   "execution_count": 14,
   "metadata": {
    "id": "MUEMWLzNMmLO"
   },
   "outputs": [],
   "source": [
    "cleaned_tweet = [None]*len(tweet_lemmatised)\n",
    "for i in range(len(tweet_lemmatised)):\n",
    "  cleaned_tweet[i] = \" \".join(tweet_lemmatised[i])"
   ]
  },
  {
   "cell_type": "code",
   "execution_count": 15,
   "metadata": {
    "colab": {
     "base_uri": "https://localhost:8080/"
    },
    "id": "6IaieqePNHCg",
    "outputId": "b41b2299-b73c-450f-d07a-8a7894e7fa35"
   },
   "outputs": [
    {
     "name": "stdout",
     "output_type": "stream",
     "text": [
      "Devotees flout SocialDistancing norm immersing Ganesha idol RKBeach Vizag\n"
     ]
    }
   ],
   "source": [
    "print(cleaned_tweet[3])"
   ]
  },
  {
   "cell_type": "code",
   "execution_count": 16,
   "metadata": {
    "id": "g2-UWqSFdXJe"
   },
   "outputs": [],
   "source": [
    "data['Cleaned Tweet'] = cleaned_tweet"
   ]
  },
  {
   "cell_type": "code",
   "execution_count": 17,
   "metadata": {
    "colab": {
     "base_uri": "https://localhost:8080/"
    },
    "id": "GnkfGzgLd72f",
    "outputId": "5e2fd0e5-7ae8-4474-d9c7-aadb1d243c67"
   },
   "outputs": [
    {
     "data": {
      "text/html": [
       "<div>\n",
       "<style scoped>\n",
       "    .dataframe tbody tr th:only-of-type {\n",
       "        vertical-align: middle;\n",
       "    }\n",
       "\n",
       "    .dataframe tbody tr th {\n",
       "        vertical-align: top;\n",
       "    }\n",
       "\n",
       "    .dataframe thead th {\n",
       "        text-align: right;\n",
       "    }\n",
       "</style>\n",
       "<table border=\"1\" class=\"dataframe\">\n",
       "  <thead>\n",
       "    <tr style=\"text-align: right;\">\n",
       "      <th></th>\n",
       "      <th>Datetime</th>\n",
       "      <th>Tweet</th>\n",
       "      <th>Hashtag</th>\n",
       "      <th>Cleaned Tweet</th>\n",
       "    </tr>\n",
       "  </thead>\n",
       "  <tbody>\n",
       "    <tr>\n",
       "      <th>0</th>\n",
       "      <td>2020-08-23 08:23:04</td>\n",
       "      <td>Come What May !\\n#sundayvibes #SundayMorning #...</td>\n",
       "      <td>#coronavirus</td>\n",
       "      <td>Come What May sundayvibes SundayMorning COVID1...</td>\n",
       "    </tr>\n",
       "    <tr>\n",
       "      <th>1</th>\n",
       "      <td>2020-08-23 08:23:01</td>\n",
       "      <td>47-year-old  with heart condition has died due...</td>\n",
       "      <td>#coronavirus</td>\n",
       "      <td>47 year old heart condition died due Covid 19 ...</td>\n",
       "    </tr>\n",
       "    <tr>\n",
       "      <th>2</th>\n",
       "      <td>2020-08-23 08:22:53</td>\n",
       "      <td>#Coronavirus : New 10,000 fines for organisers...</td>\n",
       "      <td>#coronavirus</td>\n",
       "      <td>Coronavirus New 10 000 fine organiser illegal ...</td>\n",
       "    </tr>\n",
       "    <tr>\n",
       "      <th>3</th>\n",
       "      <td>2020-08-23 08:22:40</td>\n",
       "      <td>#Devotees flout #SocialDistancing norms while ...</td>\n",
       "      <td>#coronavirus</td>\n",
       "      <td>Devotees flout SocialDistancing norm immersing...</td>\n",
       "    </tr>\n",
       "    <tr>\n",
       "      <th>4</th>\n",
       "      <td>2020-08-23 08:22:36</td>\n",
       "      <td>ICYMI: President Trump today will hold a press...</td>\n",
       "      <td>#coronavirus</td>\n",
       "      <td>ICYMI President Trump today hold press confere...</td>\n",
       "    </tr>\n",
       "  </tbody>\n",
       "</table>\n",
       "</div>"
      ],
      "text/plain": [
       "              Datetime                                              Tweet  \\\n",
       "0  2020-08-23 08:23:04  Come What May !\\n#sundayvibes #SundayMorning #...   \n",
       "1  2020-08-23 08:23:01  47-year-old  with heart condition has died due...   \n",
       "2  2020-08-23 08:22:53  #Coronavirus : New 10,000 fines for organisers...   \n",
       "3  2020-08-23 08:22:40  #Devotees flout #SocialDistancing norms while ...   \n",
       "4  2020-08-23 08:22:36  ICYMI: President Trump today will hold a press...   \n",
       "\n",
       "        Hashtag                                      Cleaned Tweet  \n",
       "0  #coronavirus  Come What May sundayvibes SundayMorning COVID1...  \n",
       "1  #coronavirus  47 year old heart condition died due Covid 19 ...  \n",
       "2  #coronavirus  Coronavirus New 10 000 fine organiser illegal ...  \n",
       "3  #coronavirus  Devotees flout SocialDistancing norm immersing...  \n",
       "4  #coronavirus  ICYMI President Trump today hold press confere...  "
      ]
     },
     "execution_count": 17,
     "metadata": {},
     "output_type": "execute_result"
    }
   ],
   "source": [
    "data.head()"
   ]
  },
  {
   "cell_type": "markdown",
   "metadata": {
    "id": "GscZ1bNUodc2"
   },
   "source": [
    "# Dictionary Creation\n",
    "\n"
   ]
  },
  {
   "cell_type": "code",
   "execution_count": null,
   "metadata": {
    "id": "RxVD8Q-AKw81"
   },
   "outputs": [],
   "source": [
    "import pandas as pd\n",
    "emotions_df = pd.read_csv(\"/content/drive/My Drive/College/IBM/emotions_dict.csv\")\n",
    "# emotions_df = pd.read_csv(\"/content/drive/My Drive/Unsupervised Sentiment Analysis/emotions_dict.csv\")"
   ]
  },
  {
   "cell_type": "code",
   "execution_count": 18,
   "metadata": {},
   "outputs": [],
   "source": [
    "emotions_df = pd.read_csv('emotions_dict.csv')"
   ]
  },
  {
   "cell_type": "code",
   "execution_count": 19,
   "metadata": {
    "colab": {
     "base_uri": "https://localhost:8080/"
    },
    "id": "F-8PA68lOsIL",
    "outputId": "7c4adb7a-0cb2-41af-a50a-ed9918b7c93e"
   },
   "outputs": [
    {
     "data": {
      "text/html": [
       "<div>\n",
       "<style scoped>\n",
       "    .dataframe tbody tr th:only-of-type {\n",
       "        vertical-align: middle;\n",
       "    }\n",
       "\n",
       "    .dataframe tbody tr th {\n",
       "        vertical-align: top;\n",
       "    }\n",
       "\n",
       "    .dataframe thead th {\n",
       "        text-align: right;\n",
       "    }\n",
       "</style>\n",
       "<table border=\"1\" class=\"dataframe\">\n",
       "  <thead>\n",
       "    <tr style=\"text-align: right;\">\n",
       "      <th></th>\n",
       "      <th>Emotion</th>\n",
       "      <th>Words</th>\n",
       "    </tr>\n",
       "  </thead>\n",
       "  <tbody>\n",
       "    <tr>\n",
       "      <th>0</th>\n",
       "      <td>happy</td>\n",
       "      <td>happy;amazed;acknowledgement;admiration;alive;...</td>\n",
       "    </tr>\n",
       "    <tr>\n",
       "      <th>1</th>\n",
       "      <td>sad</td>\n",
       "      <td>sad;alienation;boredom;concern;condemnation;de...</td>\n",
       "    </tr>\n",
       "    <tr>\n",
       "      <th>2</th>\n",
       "      <td>anger</td>\n",
       "      <td>anger;agitation;angry;annoyance;anxious;aggrav...</td>\n",
       "    </tr>\n",
       "    <tr>\n",
       "      <th>3</th>\n",
       "      <td>fear</td>\n",
       "      <td>fear;alarm;anxious;aghast;apprehensive;awe;cau...</td>\n",
       "    </tr>\n",
       "    <tr>\n",
       "      <th>4</th>\n",
       "      <td>hurt</td>\n",
       "      <td>crushed;tormented;deprived;pained;tortured;dej...</td>\n",
       "    </tr>\n",
       "  </tbody>\n",
       "</table>\n",
       "</div>"
      ],
      "text/plain": [
       "  Emotion                                              Words\n",
       "0   happy  happy;amazed;acknowledgement;admiration;alive;...\n",
       "1     sad  sad;alienation;boredom;concern;condemnation;de...\n",
       "2   anger  anger;agitation;angry;annoyance;anxious;aggrav...\n",
       "3    fear  fear;alarm;anxious;aghast;apprehensive;awe;cau...\n",
       "4    hurt  crushed;tormented;deprived;pained;tortured;dej..."
      ]
     },
     "execution_count": 19,
     "metadata": {},
     "output_type": "execute_result"
    }
   ],
   "source": [
    "emotions_df.head()"
   ]
  },
  {
   "cell_type": "code",
   "execution_count": 20,
   "metadata": {
    "colab": {
     "base_uri": "https://localhost:8080/"
    },
    "id": "OmGtzBm6PhqH",
    "outputId": "fcb5facd-f881-4e66-d85b-2f53311cc6c8"
   },
   "outputs": [
    {
     "name": "stdout",
     "output_type": "stream",
     "text": [
      "{'happy': ['happy;amazed;acknowledgement;admiration;alive;amusement;appreciation;awe;blissful;calm;cheerful;confident\\xa0;content;delight;determination;elation;ecstatic;energetic;enthusiastic;excitement;exuberant;fantastic;great;gay;joyous;lucky;fortunate;delighted;overjoyed;gleeful;thankful;important;festive;ecstatic;satisfied;glad;cheerful;sunny;merry;elated;jubilant\\nflattery;fortunate;fulfillment;good;grateful;happy;hopeful;joyful;justification;optimistic;passionate;peaceful;pleasure;relaxation;relief;resolve;respect;satisfaction;secure;sensual;spiritual;terrific;thankful;tranquil;validation;playful;courageous;energetic;liberated;optimistic;provocative;impulsive;free;frisky;animated;spirited;thrilled;wonderful;great;gay;joyous;lucky;fortunate;delighted;overjoyed;gleeful;thankful;important;festive;ecstatic;satisfied;glad;cheerful;sunny;merry;elated;jubilant;Delighted;Ebullient;Ecstatic;Elated;Energetic;EnthusiasticEuphoric;Excited;Exhilarated;Overjoyed;Thrilled;Tickled pink;Vibrant;Zippy;Aglow;Buoyant;Cheerful;Elvated;Gleeful;Happy;In high spirits;Jovial;Light-hearted;Lively;Merry;Riding high;Sparkling;Contented;Cool;Fine;Genial;Glad;Gratified;Keen;Pleasant;Pleased;Satisfied;Serene'], 'sad': ['sad;alienation;boredom;concern;condemnation;depression;devastation;disappointment;discouragement;disgrace;disillusionment;dismal;disregard;defeat;dejection;demoralization;distraught;exhaustion;helpless;hopeless;humble;hurt;inadequate;isolation\\xa0;lonely;gloomy;grievous;guilty;hopeless;miserable;misunderstanding;mournful;neglect;painful;regretful;rejection;shame;sorry;terrible;tired;uneasy;unhappy;unlovable;invalidation;upset;weary;worthless;tearful;sorrowful;pained;grief;anguish;desolate;desperate;pessimistic;unhappy;lonely;grieved;mournful;dismayed;Abashed;Debased;Degraded;Delinquent;Depraved;Disgraced;Evil;Exposed;Humiliated;Judged;Mortified;Shamed;Sinful;Wicked;Wrong;Apologetic;Ashamed;Contrite;Culpable;Demeaned;Downhearted;Flustered;Guilty;Penitent;Regretful;Remorseful;Repentant;Shamefaced;Sorrowful;Sorry;Bashful;Blushing;Chagrined;Chastened;Crestfallen;Embarrassed;Hesitant;Humble;Meek;Regretful;Reluctant;Sheepish'], 'anger': ['anger;agitation;angry;annoyance;anxious;aggravation;betrayal;bitter;coercion;confusion;control;critical;deceive;disgust;dishonor;dismay;displeasure;distraught;domination;enrage;envious;exasperation;fed\\xa0up;frustration;furious;harassment;hostile;humiliation;impatient;indignant;irritation;jealous;misunderstood;nervous;offensive;patronization;rage;rebellious;repulsion;resentful;ridicule;sabotage;sore;upset;uptight;vengeful;vindictive;vengeful;vindictive;irritated;enraged;hostile;insulting;sore;annoyed;upset;hateful;unpleasant;offensive;bitter;aggressive;resentful;inflamed;provoked;incensed;infuriated;cross;worked up;boiling;fuming;indignant;Affronted;Belligerent;Bitter;Burned up;Enraged;Fuming;Furious;Incensed;Infuriated;Intense;Outraged;Provoked;Seething;Storming;Truculent;Vengeful;Vindictive;Aggravated;Annoyed;Antagonistic;Crabby;Cranky;Exasperated;Fuming;Grouchy;Hostile;Ill-tempered;Indignant;Irate;Irritated;Offended;Ratty;Resentful;Sore;Spiteful;Testy;Ticked off;Bugged;Chagrined;Dismayed;Galled;Grim;Impatient;Irked;Petulant;Resentful;Sullen;Uptight'], 'fear': ['fear;alarm;anxious;aghast;apprehensive;awe;cautious;chicken;concern;confusion;defensive;desperate;discouragement;distress;doubtful;embarrassment;frantic;frustration;guarded;guilty;helpless;hesitant;hopeless;horror;impatient;insecure;intimidation;jealous;lonely;misunderstood;nervous;overwhelm;panicky;regretful;reluctant;resentful;shock;shy;skeptical;suspicious;tense;threatening;timid;torment;uncertain;uncomfortable;vulnerable;weak;worry;fearful;terrified;suspicious;anxious;alarmed;panic;nervous;scared;worried;frightened;timid;shaky;restless;doubtful;threatened;cowardly;quaking;menaced;wary;Alarmed;Appalled;Desperate;Distressed;Frightened;Horrified;Intimidated;Panic;Paralyzed;Petrified;Shocked;Terrified;Terror-stricken;Wrecked;Afraid;Apprehensive;Awkward;Defensive;Fearful;Fidgety;Fretful;Jumpy;Nervous;Scared;Shaky;Skittish;Spineless;Taut;Threatened;Troubled;Wired;Anxious;Careful;Cautious;Disquieted;Goose-bumpy;Shy;Tense;Timid;Uneasy;Unsure;Watchful;Worried'], 'hurt': ['crushed;tormented;deprived;pained;tortured;dejected;rejected;injured;offended;afflicted;aching;victimized;heartbroken;agonized;appalled;humiliated;wronged;alienated;Abused;Aching;Anguished;Crushed;Degraded;Destroyed;Devastated;Discarded;Disgraced;Forsaken;Humiliated;Mocked;Punished;Rejected;Ridiculed;Ruined;Scorned;Stabbed;Tortured;Belittled;Cheapened;Criticized;Damaged;Depreciated;Devalued;Discredited;Distressed;Impaired;Injured;Maligned;Marred;Miffed;Mistreated;Resentful;Troubled;Wounded;Let down;Minimized;Neglected;Put away;Put down;Rueful;Tender;Touched'], 'depression': ['Alienated;Barren;Beaten;Bleak;Bleeding;Dejected;Depressed;Desolate;Despondent;Dismal;Empty;Gloomy;Grieved;Grim;Hopeless;In despair;Woeful;Worried;Awful;Blue;Crestfallen;Demoralized;Devalued;Discouraged;Dispirited;Distressed;Downcast;Downhearted;Fed up;Lost;Melancholy;Miserable;Regretful;Rotten;Sorrowful;Tearful;Upset;Weepy;Disappointed;Down;Funk;Glum;Low;Moody;Morose;Somber;Subdued;Uncomfortable;Unhappy;lousy;disappointed;discouraged;ashamed;powerless;diminished;guilty;dissatisfied;miserable;detestable;repugnant;despicable;disgusting;abominable;terrible;in despair;sulky;bad'], 'positive': ['understanding;confident;reliable;easy;free;sympathetic;interested;satisfied;receptive;accepting;kind;like;love;calm;peaceful;comfortable;pleased;encouraged;clever;surprised;content;quiet;certain;relaxed;serene;free and easy;bright;blessed;reassured;loving;considerate;affectionate;sensitive;tender;devoted;attracted;passionate;admiration;warm;touched;sympathy;close;loved;comforted;drawn toward;eager;keen;earnest;intent;anxious;inspired;determined;excited;enthusiastic;bold;brave;daring;challenged;optimistic;re-enforced;confident;hopeful;impulsive;free;sure;certain;rebellious;unique;dynamic;tenacious;hardy;secure'], 'negative': [\"blah;no;not;don't;aren't;couldn't;didn't;don'; don't;should';mustn't;hasn't;haven't;doesn't;hadn't; isn't;mightn't;needn't; shan't; shouldn't;wasn't;weren't;won't;wont;wouldn't;can't;don't;aren't;couldn't;didn't;mustnt;hasnt;havent;doesnt;hadnt; isnt;mightnt;neednt; shant; shouldnt;wasnt;werent;wont;wouldnt;cant;donot;arenot;couldnot;didnot;mustnot;hasnot;havenot;doesnot;hadnot; isnot;mightnot;neednot; shallnot; shouldnot;wasnot;werenot;willnot;wouldnot;cannot; 'ain'; 'aren'; aren't; 'couldn'; couldn't; 'didn'; didn't; 'doesn'; doesn't; 'hadn'; hadn't; 'hasn'; hasn't; 'haven'; haven't; 'isn'; isn't; 'ma'; 'mightn'; mightn't; 'mustn'; mustn't; 'needn'; needn't; 'shan'; shan't; 'shouldn'; shouldn't; 'wasn'; wasn't; 'weren'; weren't; won't;'wouldnt';wouldn't;insensitive;dull;nonchalant;reserved;weary;bored;preoccupied;cold;disinterested;lifeless\"], 'lonliness': ['incapable;alone;paralyzed;fatigued;useless;inferior;vulnerable;empty;forced;hesitant;despair;frustrated;distressed;woeful;pathetic;tragic;dominated;Abandoned;Black;Cut off;Deserted;Destroyed;Empty;Forsaken;Isolated;Marooned;Neglected;Ostracized;Outcast;Rejected;Shunned;Alienated;Alone;Apart;Cheerless;Companionless;Dejected;Despondent;Estranged;Excluded;Left out;Leftover;Lonely;Oppressed;Uncherished;Blue;Detached;Discouraged;Distant;Insulated;Melancholy;Remote;Separate;Withdrawn'], 'confused': ['upset;doubtful;uncertain;indecisive;perplexed;embarrassed;hesitant;shy;stupefied;disillusioned;unbelieving;skeptical;distrustful;misgiving;lost;unsure;uneasy;pessimistic;tense;Baffled;Befuddled;Chaotic;Confounded;Confused;Dizzy;Flustered;Rattled;Reeling;Shocked;Shook up;Speechless;Startled;Stumped;Stunned;Taken-aback;Thrown;Thunderstruck;Trapped;Adrift;Ambivalent;Bewildered;Puzzled;Blurred;Disconcerted;Disordered;Disorganized;Disquieted;Disturbed;Foggy;Frustrated;Misled;Mistaken;Misunderstood;Mixed up;Perplexed;Troubled;Distracted;Uncertain;Uncomfortable;Undecided;Unsettled;Unsure']}\n"
     ]
    }
   ],
   "source": [
    "trans_df = emotions_df.set_index(\"Emotion\").T\n",
    "emotions_dict = trans_df.to_dict(\"list\")\n",
    "print(emotions_dict)"
   ]
  },
  {
   "cell_type": "code",
   "execution_count": 21,
   "metadata": {
    "colab": {
     "base_uri": "https://localhost:8080/"
    },
    "id": "mnN-yO6Ji-hI",
    "outputId": "bd4afcb9-a2fb-42ee-e9bd-e08235f1a6eb"
   },
   "outputs": [
    {
     "data": {
      "text/plain": [
       "['happy;amazed;acknowledgement;admiration;alive;amusement;appreciation;awe;blissful;calm;cheerful;confident\\xa0;content;delight;determination;elation;ecstatic;energetic;enthusiastic;excitement;exuberant;fantastic;great;gay;joyous;lucky;fortunate;delighted;overjoyed;gleeful;thankful;important;festive;ecstatic;satisfied;glad;cheerful;sunny;merry;elated;jubilant\\nflattery;fortunate;fulfillment;good;grateful;happy;hopeful;joyful;justification;optimistic;passionate;peaceful;pleasure;relaxation;relief;resolve;respect;satisfaction;secure;sensual;spiritual;terrific;thankful;tranquil;validation;playful;courageous;energetic;liberated;optimistic;provocative;impulsive;free;frisky;animated;spirited;thrilled;wonderful;great;gay;joyous;lucky;fortunate;delighted;overjoyed;gleeful;thankful;important;festive;ecstatic;satisfied;glad;cheerful;sunny;merry;elated;jubilant;Delighted;Ebullient;Ecstatic;Elated;Energetic;EnthusiasticEuphoric;Excited;Exhilarated;Overjoyed;Thrilled;Tickled pink;Vibrant;Zippy;Aglow;Buoyant;Cheerful;Elvated;Gleeful;Happy;In high spirits;Jovial;Light-hearted;Lively;Merry;Riding high;Sparkling;Contented;Cool;Fine;Genial;Glad;Gratified;Keen;Pleasant;Pleased;Satisfied;Serene']"
      ]
     },
     "execution_count": 21,
     "metadata": {},
     "output_type": "execute_result"
    }
   ],
   "source": [
    "emotions_dict['happy']"
   ]
  },
  {
   "cell_type": "code",
   "execution_count": 22,
   "metadata": {
    "id": "5zrkgI7ifsJh"
   },
   "outputs": [],
   "source": [
    "emotions_dict['happy'].insert(0, 0.4)\n",
    "emotions_dict['sad'].insert(0, 0.4)\n",
    "emotions_dict['anger'].insert(0, 0.6)\n",
    "emotions_dict['fear'].insert(0, 0.8)\n",
    "emotions_dict['hurt'].insert(0, 0.6)\n",
    "emotions_dict['depression'].insert(0, 0.6)\n",
    "emotions_dict['positive'].insert(0, 0.3)\n",
    "emotions_dict['negative'].insert(0, 0.9)\n",
    "emotions_dict['lonliness'].insert(0, 0.7)\n",
    "emotions_dict['confused'].insert(0, 0.5)"
   ]
  },
  {
   "cell_type": "code",
   "execution_count": null,
   "metadata": {
    "colab": {
     "base_uri": "https://localhost:8080/"
    },
    "id": "m2Oq8IOPptaQ",
    "outputId": "2566ac4f-3603-451d-ab17-9945580193a8"
   },
   "outputs": [
    {
     "data": {
      "text/plain": [
       "{'anger': [0.6,\n",
       "  'anger;agitation;angry;annoyance;anxious;aggravation;betrayal;bitter;coercion;confusion;control;critical;deceive;disgust;dishonor;dismay;displeasure;distraught;domination;enrage;envious;exasperation;fed\\xa0up;frustration;furious;harassment;hostile;humiliation;impatient;indignant;irritation;jealous;misunderstood;nervous;offensive;patronization;rage;rebellious;repulsion;resentful;ridicule;sabotage;sore;upset;uptight;vengeful;vindictive;vengeful;vindictive;irritated;enraged;hostile;insulting;sore;annoyed;upset;hateful;unpleasant;offensive;bitter;aggressive;resentful;inflamed;provoked;incensed;infuriated;cross;worked up;boiling;fuming;indignant;Affronted;Belligerent;Bitter;Burned up;Enraged;Fuming;Furious;Incensed;Infuriated;Intense;Outraged;Provoked;Seething;Storming;Truculent;Vengeful;Vindictive;Aggravated;Annoyed;Antagonistic;Crabby;Cranky;Exasperated;Fuming;Grouchy;Hostile;Ill-tempered;Indignant;Irate;Irritated;Offended;Ratty;Resentful;Sore;Spiteful;Testy;Ticked off;Bugged;Chagrined;Dismayed;Galled;Grim;Impatient;Irked;Petulant;Resentful;Sullen;Uptight'],\n",
       " 'confused': [0.5,\n",
       "  'upset;doubtful;uncertain;indecisive;perplexed;embarrassed;hesitant;shy;stupefied;disillusioned;unbelieving;skeptical;distrustful;misgiving;lost;unsure;uneasy;pessimistic;tense;Baffled;Befuddled;Chaotic;Confounded;Confused;Dizzy;Flustered;Rattled;Reeling;Shocked;Shook up;Speechless;Startled;Stumped;Stunned;Taken-aback;Thrown;Thunderstruck;Trapped;Adrift;Ambivalent;Bewildered;Puzzled;Blurred;Disconcerted;Disordered;Disorganized;Disquieted;Disturbed;Foggy;Frustrated;Misled;Mistaken;Misunderstood;Mixed up;Perplexed;Troubled;Distracted;Uncertain;Uncomfortable;Undecided;Unsettled;Unsure'],\n",
       " 'depression': [0.6,\n",
       "  'Alienated;Barren;Beaten;Bleak;Bleeding;Dejected;Depressed;Desolate;Despondent;Dismal;Empty;Gloomy;Grieved;Grim;Hopeless;In despair;Woeful;Worried;Awful;Blue;Crestfallen;Demoralized;Devalued;Discouraged;Dispirited;Distressed;Downcast;Downhearted;Fed up;Lost;Melancholy;Miserable;Regretful;Rotten;Sorrowful;Tearful;Upset;Weepy;Disappointed;Down;Funk;Glum;Low;Moody;Morose;Somber;Subdued;Uncomfortable;Unhappy;lousy;disappointed;discouraged;ashamed;powerless;diminished;guilty;dissatisfied;miserable;detestable;repugnant;despicable;disgusting;abominable;terrible;in despair;sulky;bad'],\n",
       " 'fear': [0.8,\n",
       "  'fear;alarm;anxious;aghast;apprehensive;awe;cautious;chicken;concern;confusion;defensive;desperate;discouragement;distress;doubtful;embarrassment;frantic;frustration;guarded;guilty;helpless;hesitant;hopeless;horror;impatient;insecure;intimidation;jealous;lonely;misunderstood;nervous;overwhelm;panicky;regretful;reluctant;resentful;shock;shy;skeptical;suspicious;tense;threatening;timid;torment;uncertain;uncomfortable;vulnerable;weak;worry;fearful;terrified;suspicious;anxious;alarmed;panic;nervous;scared;worried;frightened;timid;shaky;restless;doubtful;threatened;cowardly;quaking;menaced;wary;Alarmed;Appalled;Desperate;Distressed;Frightened;Horrified;Intimidated;Panic;Paralyzed;Petrified;Shocked;Terrified;Terror-stricken;Wrecked;Afraid;Apprehensive;Awkward;Defensive;Fearful;Fidgety;Fretful;Jumpy;Nervous;Scared;Shaky;Skittish;Spineless;Taut;Threatened;Troubled;Wired;Anxious;Careful;Cautious;Disquieted;Goose-bumpy;Shy;Tense;Timid;Uneasy;Unsure;Watchful;Worried'],\n",
       " 'happy': [0.4,\n",
       "  'happy;amazed;acknowledgement;admiration;alive;amusement;appreciation;awe;blissful;calm;cheerful;confident\\xa0;content;delight;determination;elation;ecstatic;energetic;enthusiastic;excitement;exuberant;fantastic;great;gay;joyous;lucky;fortunate;delighted;overjoyed;gleeful;thankful;important;festive;ecstatic;satisfied;glad;cheerful;sunny;merry;elated;jubilant\\nflattery;fortunate;fulfillment;good;grateful;happy;hopeful;joyful;justification;optimistic;passionate;peaceful;pleasure;relaxation;relief;resolve;respect;satisfaction;secure;sensual;spiritual;terrific;thankful;tranquil;validation;playful;courageous;energetic;liberated;optimistic;provocative;impulsive;free;frisky;animated;spirited;thrilled;wonderful;great;gay;joyous;lucky;fortunate;delighted;overjoyed;gleeful;thankful;important;festive;ecstatic;satisfied;glad;cheerful;sunny;merry;elated;jubilant;Delighted;Ebullient;Ecstatic;Elated;Energetic;EnthusiasticEuphoric;Excited;Exhilarated;Overjoyed;Thrilled;Tickled pink;Vibrant;Zippy;Aglow;Buoyant;Cheerful;Elvated;Gleeful;Happy;In high spirits;Jovial;Light-hearted;Lively;Merry;Riding high;Sparkling;Contented;Cool;Fine;Genial;Glad;Gratified;Keen;Pleasant;Pleased;Satisfied;Serene'],\n",
       " 'hurt': [0.6,\n",
       "  'crushed;tormented;deprived;pained;tortured;dejected;rejected;injured;offended;afflicted;aching;victimized;heartbroken;agonized;appalled;humiliated;wronged;alienated;Abused;Aching;Anguished;Crushed;Degraded;Destroyed;Devastated;Discarded;Disgraced;Forsaken;Humiliated;Mocked;Punished;Rejected;Ridiculed;Ruined;Scorned;Stabbed;Tortured;Belittled;Cheapened;Criticized;Damaged;Depreciated;Devalued;Discredited;Distressed;Impaired;Injured;Maligned;Marred;Miffed;Mistreated;Resentful;Troubled;Wounded;Let down;Minimized;Neglected;Put away;Put down;Rueful;Tender;Touched'],\n",
       " 'lonliness': [0.7,\n",
       "  'incapable;alone;paralyzed;fatigued;useless;inferior;vulnerable;empty;forced;hesitant;despair;frustrated;distressed;woeful;pathetic;tragic;dominated;Abandoned;Black;Cut off;Deserted;Destroyed;Empty;Forsaken;Isolated;Marooned;Neglected;Ostracized;Outcast;Rejected;Shunned;Alienated;Alone;Apart;Cheerless;Companionless;Dejected;Despondent;Estranged;Excluded;Left out;Leftover;Lonely;Oppressed;Uncherished;Blue;Detached;Discouraged;Distant;Insulated;Melancholy;Remote;Separate;Withdrawn'],\n",
       " 'negative': [0.9,\n",
       "  \"blah;no;not;don't;aren't;couldn't;didn't;don'; don't;should';mustn't;hasn't;haven't;doesn't;hadn't; isn't;mightn't;needn't; shan't; shouldn't;wasn't;weren't;won't;wont;wouldn't;can't;don't;aren't;couldn't;didn't;mustnt;hasnt;havent;doesnt;hadnt; isnt;mightnt;neednt; shant; shouldnt;wasnt;werent;wont;wouldnt;cant;donot;arenot;couldnot;didnot;mustnot;hasnot;havenot;doesnot;hadnot; isnot;mightnot;neednot; shallnot; shouldnot;wasnot;werenot;willnot;wouldnot;cannot; 'ain'; 'aren'; aren't; 'couldn'; couldn't; 'didn'; didn't; 'doesn'; doesn't; 'hadn'; hadn't; 'hasn'; hasn't; 'haven'; haven't; 'isn'; isn't; 'ma'; 'mightn'; mightn't; 'mustn'; mustn't; 'needn'; needn't; 'shan'; shan't; 'shouldn'; shouldn't; 'wasn'; wasn't; 'weren'; weren't; won't;'wouldnt';wouldn't;insensitive;dull;nonchalant;reserved;weary;bored;preoccupied;cold;disinterested;lifeless\"],\n",
       " 'positive': [0.3,\n",
       "  'understanding;confident;reliable;easy;free;sympathetic;interested;satisfied;receptive;accepting;kind;like;love;calm;peaceful;comfortable;pleased;encouraged;clever;surprised;content;quiet;certain;relaxed;serene;free and easy;bright;blessed;reassured;loving;considerate;affectionate;sensitive;tender;devoted;attracted;passionate;admiration;warm;touched;sympathy;close;loved;comforted;drawn toward;eager;keen;earnest;intent;anxious;inspired;determined;excited;enthusiastic;bold;brave;daring;challenged;optimistic;re-enforced;confident;hopeful;impulsive;free;sure;certain;rebellious;unique;dynamic;tenacious;hardy;secure'],\n",
       " 'sad': [0.4,\n",
       "  'sad;alienation;boredom;concern;condemnation;depression;devastation;disappointment;discouragement;disgrace;disillusionment;dismal;disregard;defeat;dejection;demoralization;distraught;exhaustion;helpless;hopeless;humble;hurt;inadequate;isolation\\xa0;lonely;gloomy;grievous;guilty;hopeless;miserable;misunderstanding;mournful;neglect;painful;regretful;rejection;shame;sorry;terrible;tired;uneasy;unhappy;unlovable;invalidation;upset;weary;worthless;tearful;sorrowful;pained;grief;anguish;desolate;desperate;pessimistic;unhappy;lonely;grieved;mournful;dismayed;Abashed;Debased;Degraded;Delinquent;Depraved;Disgraced;Evil;Exposed;Humiliated;Judged;Mortified;Shamed;Sinful;Wicked;Wrong;Apologetic;Ashamed;Contrite;Culpable;Demeaned;Downhearted;Flustered;Guilty;Penitent;Regretful;Remorseful;Repentant;Shamefaced;Sorrowful;Sorry;Bashful;Blushing;Chagrined;Chastened;Crestfallen;Embarrassed;Hesitant;Humble;Meek;Regretful;Reluctant;Sheepish']}"
      ]
     },
     "execution_count": 30,
     "metadata": {
      "tags": []
     },
     "output_type": "execute_result"
    }
   ],
   "source": [
    "emotions_dict"
   ]
  },
  {
   "cell_type": "code",
   "execution_count": 28,
   "metadata": {
    "id": "GnsNA5e-neKt"
   },
   "outputs": [],
   "source": [
    "import spacy\n",
    "nlp = spacy.load(\"en_core_web_sm\")\n",
    "#nlp = spacy.load('en', disable=['parser', 'ner'])"
   ]
  },
  {
   "cell_type": "code",
   "execution_count": 29,
   "metadata": {
    "colab": {
     "base_uri": "https://localhost:8080/"
    },
    "id": "t_z8n_iAQau-",
    "outputId": "2a597fe3-b774-4a34-95ed-e1bdcf3dfb48"
   },
   "outputs": [
    {
     "name": "stdout",
     "output_type": "stream",
     "text": [
      "happy [0.4, ['happy', 'amazed', 'acknowledgement', 'admiration', 'alive', 'amusement', 'appreciation', 'awe', 'blissful', 'calm', 'cheerful', 'confident', 'content', 'delight', 'determination', 'elation', 'ecstatic', 'energetic', 'enthusiastic', 'excitement', 'exuberant', 'fantastic', 'great', 'gay', 'joyous', 'lucky', 'fortunate', 'delighted', 'overjoyed', 'gleeful', 'thankful', 'important', 'festive', 'ecstatic', 'satisfied', 'glad', 'cheerful', 'sunny', 'merry', 'elated', 'jubilant\\nflattery', 'fortunate', 'fulfillment', 'good', 'grateful', 'happy', 'hopeful', 'joyful', 'justification', 'optimistic', 'passionate', 'peaceful', 'pleasure', 'relaxation', 'relief', 'resolve', 'respect', 'satisfaction', 'secure', 'sensual', 'spiritual', 'terrific', 'thankful', 'tranquil', 'validation', 'playful', 'courageous', 'energetic', 'liberate', 'optimistic', 'provocative', 'impulsive', 'free', 'frisky', 'animate', 'spirited', 'thrill', 'wonderful', 'great', 'gay', 'joyous', 'lucky', 'fortunate', 'delighted', 'overjoyed', 'gleeful', 'thankful', 'important', 'festive', 'ecstatic', 'satisfied', 'glad', 'cheerful', 'sunny', 'merry', 'elated', 'jubilant', 'delighted', 'ebullient', 'ecstatic', 'elated', 'energetic', 'enthusiasticeuphoric', 'excited', 'exhilarate', 'overjoyed', 'thrill', 'ticklepink', 'vibrant', 'zippy', 'aglow', 'buoyant', 'cheerful', 'elvate', 'gleeful', 'happy', 'inhighspirit', 'jovial', 'light-hearted', 'lively', 'merry', 'ridehigh', 'sparkle', 'content', 'cool', 'fine', 'genial', 'glad', 'gratified', 'keen', 'pleasant', 'pleased', 'satisfied', 'serene']]\n",
      "sad [0.4, ['sad', 'alienation', 'boredom', 'concern', 'condemnation', 'depression', 'devastation', 'disappointment', 'discouragement', 'disgrace', 'disillusionment', 'dismal', 'disregard', 'defeat', 'dejection', 'demoralization', 'distraught', 'exhaustion', 'helpless', 'hopeless', 'humble', 'hurt', 'inadequate', 'isolation', 'lonely', 'gloomy', 'grievous', 'guilty', 'hopeless', 'miserable', 'misunderstanding', 'mournful', 'neglect', 'painful', 'regretful', 'rejection', 'shame', 'sorry', 'terrible', 'tired', 'uneasy', 'unhappy', 'unlovable', 'invalidation', 'upset', 'weary', 'worthless', 'tearful', 'sorrowful', 'pain', 'grief', 'anguish', 'desolate', 'desperate', 'pessimistic', 'unhappy', 'lonely', 'grieve', 'mournful', 'dismayed', 'abash', 'debase', 'degrade', 'delinquent', 'depraved', 'disgrace', 'evil', 'expose', 'humiliate', 'judge', 'mortify', 'shamed', 'sinful', 'wicked', 'wrong', 'apologetic', 'ashamed', 'contrite', 'culpable', 'demean', 'downhearted', 'fluster', 'guilty', 'penitent', 'regretful', 'remorseful', 'repentant', 'shamefaced', 'sorrowful', 'sorry', 'bashful', 'blush', 'chagrin', 'chasten', 'crestfallen', 'embarrassed', 'hesitant', 'humble', 'meek', 'regretful', 'reluctant', 'sheepish']]\n",
      "anger [0.6, ['anger', 'agitation', 'angry', 'annoyance', 'anxious', 'aggravation', 'betrayal', 'bitter', 'coercion', 'confusion', 'control', 'critical', 'deceive', 'disgust', 'dishonor', 'dismay', 'displeasure', 'distraught', 'domination', 'enrage', 'envious', 'exasperation', 'fed  up', 'frustration', 'furious', 'harassment', 'hostile', 'humiliation', 'impatient', 'indignant', 'irritation', 'jealous', 'misunderstood', 'nervous', 'offensive', 'patronization', 'rage', 'rebellious', 'repulsion', 'resentful', 'ridicule', 'sabotage', 'sore', 'upset', 'uptight', 'vengeful', 'vindictive', 'vengeful', 'vindictive', 'irritated', 'enrage', 'hostile', 'insult', 'sore', 'annoyed', 'upset', 'hateful', 'unpleasant', 'offensive', 'bitter', 'aggressive', 'resentful', 'inflame', 'provoke', 'incense', 'infuriate', 'cross', 'workup', 'boil', 'fuming', 'indignant', 'affront', 'belligerent', 'bitter', 'burnup', 'enrage', 'fuming', 'furious', 'incense', 'infuriate', 'intense', 'outraged', 'provoke', 'seethe', 'storm', 'truculent', 'vengeful', 'vindictive', 'aggravate', 'annoyed', 'antagonistic', 'crabby', 'cranky', 'exasperate', 'fuming', 'grouchy', 'hostile', 'ill-temper', 'indignant', 'irate', 'irritated', 'offend', 'ratty', 'resentful', 'sore', 'spiteful', 'testy', 'tickoff', 'bugged', 'chagrin', 'dismayed', 'gall', 'grim', 'impatient', 'irk', 'petulant', 'resentful', 'sullen', 'uptight']]\n",
      "fear [0.8, ['fear', 'alarm', 'anxious', 'aghast', 'apprehensive', 'awe', 'cautious', 'chicken', 'concern', 'confusion', 'defensive', 'desperate', 'discouragement', 'distress', 'doubtful', 'embarrassment', 'frantic', 'frustration', 'guard', 'guilty', 'helpless', 'hesitant', 'hopeless', 'horror', 'impatient', 'insecure', 'intimidation', 'jealous', 'lonely', 'misunderstood', 'nervous', 'overwhelm', 'panicky', 'regretful', 'reluctant', 'resentful', 'shock', 'shy', 'skeptical', 'suspicious', 'tense', 'threaten', 'timid', 'torment', 'uncertain', 'uncomfortable', 'vulnerable', 'weak', 'worry', 'fearful', 'terrify', 'suspicious', 'anxious', 'alarm', 'panic', 'nervous', 'scared', 'worried', 'frightened', 'timid', 'shaky', 'restless', 'doubtful', 'threaten', 'cowardly', 'quake', 'menaced', 'wary', 'alarm', 'appal', 'desperate', 'distressed', 'frightened', 'horrify', 'intimidate', 'panic', 'paralyzed', 'petrified', 'shock', 'terrify', 'terror-stricken', 'wreck', 'afraid', 'apprehensive', 'awkward', 'defensive', 'fearful', 'fidgety', 'fretful', 'jumpy', 'nervous', 'scared', 'shaky', 'skittish', 'spineless', 'taut', 'threaten', 'trouble', 'wire', 'anxious', 'careful', 'cautious', 'disquiet', 'goose-bumpy', 'shy', 'tense', 'timid', 'uneasy', 'unsure', 'watchful', 'worried']]\n",
      "hurt [0.6, ['crush', 'torment', 'deprive', 'pain', 'torture', 'deject', 'reject', 'injure', 'offend', 'afflict', 'ache', 'victimize', 'heartbroken', 'agonize', 'appal', 'humiliate', 'wrong', 'alienated', 'abuse', 'ache', 'anguish', 'crush', 'degrade', 'destroy', 'devastate', 'discard', 'disgrace', 'forsake', 'humiliate', 'mock', 'punish', 'reject', 'ridicule', 'ruin', 'scorn', 'stab', 'torture', 'belittle', 'cheapen', 'criticize', 'damage', 'depreciate', 'devalue', 'discredit', 'distressed', 'impair', 'injure', 'maligned', 'marred', 'miffed', 'mistreat', 'resentful', 'trouble', 'wound', 'letdown', 'minimize', 'neglect', 'putaway', 'putdown', 'rueful', 'tender', 'touch']]\n",
      "depression [0.6, ['alienated', 'barren', 'beat', 'bleak', 'bleed', 'deject', 'depressed', 'desolate', 'despondent', 'dismal', 'empty', 'gloomy', 'grieve', 'grim', 'hopeless', 'indespair', 'woeful', 'worried', 'awful', 'blue', 'crestfallen', 'demoralize', 'devalue', 'discourage', 'dispirited', 'distressed', 'downcast', 'downhearted', 'feedup', 'lose', 'melancholy', 'miserable', 'regretful', 'rotten', 'sorrowful', 'tearful', 'upset', 'weepy', 'disappointed', 'down', 'funk', 'glum', 'low', 'moody', 'morose', 'somber', 'subdue', 'uncomfortable', 'unhappy', 'lousy', 'disappointed', 'discourage', 'ashamed', 'powerless', 'diminish', 'guilty', 'dissatisfied', 'miserable', 'detestable', 'repugnant', 'despicable', 'disgust', 'abominable', 'terrible', 'indespair', 'sulky', 'bad']]\n",
      "positive [0.3, ['understanding', 'confident', 'reliable', 'easy', 'free', 'sympathetic', 'interested', 'satisfied', 'receptive', 'accept', 'kind', 'like', 'love', 'calm', 'peaceful', 'comfortable', 'pleased', 'encourage', 'clever', 'surprised', 'content', 'quiet', 'certain', 'relaxed', 'serene', 'freeandeasy', 'bright', 'bless', 'reassure', 'love', 'considerate', 'affectionate', 'sensitive', 'tender', 'devote', 'attract', 'passionate', 'admiration', 'warm', 'touch', 'sympathy', 'close', 'love', 'comfort', 'drawtoward', 'eager', 'keen', 'earnest', 'intent', 'anxious', 'inspire', 'determine', 'excited', 'enthusiastic', 'bold', 'brave', 'dare', 'challenge', 'optimistic', 're-enforced', 'confident', 'hopeful', 'impulsive', 'free', 'sure', 'certain', 'rebellious', 'unique', 'dynamic', 'tenacious', 'hardy', 'secure']]\n",
      "negative [0.9, ['blah', 'no', 'not', 'donot', 'benot', 'couldnot', 'donot', \"don'\", 'donot', \"should'\", 'mustnot', 'havenot', 'havenot', 'donot', 'havenot', 'benot', 'mightnot', 'neednot', 'shallnot', 'shouldnot', 'benot', 'benot', 'willnot', 'willnot', 'wouldnot', 'cannot', 'donot', 'benot', 'couldnot', 'donot', 'mustnot', 'havenot', 'havenot', 'donot', 'havenot', 'benot', 'mightnot', 'neednot', 'shallnot', 'shouldnot', 'benot', 'benot', 'willnot', 'wouldnot', 'cannot', 'donot', 'arenot', 'couldnot', 'didnot', 'mustnot', 'hasnot', 'havenot', 'doesnot', 'hadnot', 'isnot', 'mightnot', 'neednot', 'shallnot', 'shouldnot', 'wasnot', 'werenot', 'willnot', 'wouldnot', 'cannot', \"'ain'\", \"'aren'\", 'benot', \"'couldn'\", 'couldnot', \"'didn'\", 'donot', \"'doesn'\", 'donot', \"'hadn'\", 'havenot', \"'hasn'\", 'havenot', \"'haven'\", 'havenot', \"'isn'\", 'benot', \"'ma'\", \"'mightn'\", 'mightnot', \"'mustn'\", 'mustnot', \"'needn'\", 'neednot', \"'shan'\", 'shallnot', \"'shouldn'\", 'shouldnot', \"'wasn'\", 'benot', \"'weren'\", 'benot', 'willnot', \"'wouldnot'\", 'wouldnot', 'insensitive', 'dull', 'nonchalant', 'reserved', 'weary', 'bored', 'preoccupy', 'cold', 'disintereste', 'lifeless']]\n"
     ]
    },
    {
     "name": "stdout",
     "output_type": "stream",
     "text": [
      "lonliness [0.7, ['incapable', 'alone', 'paralyzed', 'fatigue', 'useless', 'inferior', 'vulnerable', 'empty', 'force', 'hesitant', 'despair', 'frustrated', 'distressed', 'woeful', 'pathetic', 'tragic', 'dominate', 'abandon', 'black', 'cutoff', 'desert', 'destroy', 'empty', 'forsake', 'isolate', 'maroon', 'neglect', 'ostracize', 'outcast', 'reject', 'shun', 'alienated', 'alone', 'apart', 'cheerless', 'companionless', 'deject', 'despondent', 'estranged', 'exclude', 'leaveout', 'leftover', 'lonely', 'oppress', 'uncherished', 'blue', 'detach', 'discourage', 'distant', 'insulate', 'melancholy', 'remote', 'separate', 'withdraw']]\n",
      "confused [0.5, ['upset', 'doubtful', 'uncertain', 'indecisive', 'perplex', 'embarrassed', 'hesitant', 'shy', 'stupefy', 'disillusion', 'unbelieving', 'skeptical', 'distrustful', 'misgive', 'lose', 'unsure', 'uneasy', 'pessimistic', 'tense', 'baffle', 'befuddle', 'chaotic', 'confound', 'confused', 'dizzy', 'fluster', 'rattle', 'reel', 'shock', 'shakeup', 'speechless', 'startled', 'stumped', 'stunned', 'take-aback', 'throw', 'thunderstruck', 'trap', 'adrift', 'ambivalent', 'bewilder', 'puzzle', 'blur', 'disconcert', 'disorder', 'disorganized', 'disquiet', 'disturbed', 'foggy', 'frustrated', 'mislead', 'mistaken', 'misunderstood', 'mixup', 'perplex', 'trouble', 'distract', 'uncertain', 'uncomfortable', 'undecided', 'unsettle', 'unsure']]\n"
     ]
    }
   ],
   "source": [
    "for i in emotions_dict:\n",
    "  word_list = emotions_dict[i]\n",
    "  string_list = str(word_list[1])\n",
    "  word_list = [x.lower().strip() for x in string_list.split(';')]\n",
    "  word_lemmatised = [None]*len(word_list)\n",
    "  for j in range(len(word_list)):\n",
    "    doc = nlp(str(word_list[j]))\n",
    "    word_lemmatised[j] = str(\"\".join([token.lemma_ for token in doc]))\n",
    "  emotions_dict[i][1] = word_lemmatised\n",
    "  print(i, emotions_dict[i])"
   ]
  },
  {
   "cell_type": "markdown",
   "metadata": {
    "id": "k9TuQ2MXbJ-T"
   },
   "source": [
    "# Model"
   ]
  },
  {
   "cell_type": "code",
   "execution_count": 30,
   "metadata": {
    "id": "IJu2YyRLavT8"
   },
   "outputs": [],
   "source": [
    "data['Sentiment'] = 'Neutral'"
   ]
  },
  {
   "cell_type": "code",
   "execution_count": 31,
   "metadata": {
    "id": "g7YWL5KC5Hbe"
   },
   "outputs": [],
   "source": [
    "from nltk.corpus import wordnet\n",
    "def findEmotion(word):\n",
    "  count = 0\n",
    "  for emotion in emotions_dict.keys():\n",
    "    word_list = emotions_dict[emotion][1]\n",
    "    if word in word_list:\n",
    "      count += 1\n",
    "      return emotion\n",
    "\n",
    "  if count == 0:\n",
    "    synonym_list = []\n",
    "    for synonym in wordnet.synsets(word):\n",
    "      for s in synonym.lemmas():\n",
    "        synonym_list.append(s.name())\n",
    "    for s in synonym_list:\n",
    "      for emotion in emotions_dict.keys():\n",
    "        word_list = emotions_dict[emotion][1]\n",
    "        if s in word_list:\n",
    "          emotions_dict[emotion][1].append(word)\n",
    "          return emotion\n",
    "  return \"Neutral\"\n"
   ]
  },
  {
   "cell_type": "code",
   "execution_count": 32,
   "metadata": {
    "id": "KyJ4Lj8wa0B1"
   },
   "outputs": [],
   "source": [
    "def findSentiment(data):\n",
    "  for i in range(20):\n",
    "    sentiment_dict = {}\n",
    "    tweet = data['Cleaned Tweet'][i]\n",
    "    word_list = tweet.split(' ')\n",
    "    word_list = [x.lower() for x in word_list]\n",
    "    for word in word_list:\n",
    "      tokenized = nltk.word_tokenize(word)\n",
    "      pos = nltk.pos_tag(tokenized)\n",
    "      if pos and pos[0][1] in ['JJ', 'JJR', 'JJS', 'RB', 'RBR', 'RBS', 'UH', 'VB', 'VBD', 'VBG', 'VBN', 'VBP', 'VBZ', 'MD']:\n",
    "        if word in emotions_dict.keys():\n",
    "          if word in sentiment_dict:\n",
    "            sentiment_dict[word] += 1\n",
    "          else:\n",
    "            sentiment_dict[word] = 1            \n",
    "        else:\n",
    "          word_emotion = findEmotion(word)\n",
    "          if word_emotion in sentiment_dict:\n",
    "            sentiment_dict[word_emotion] += 1\n",
    "          else:\n",
    "            sentiment_dict[word_emotion] = 1\n",
    "    if not sentiment_dict:\n",
    "      data['Sentiment'][i] = \"Neutral\"\n",
    "    elif list(sentiment_dict.keys()) == ['Neutral']:\n",
    "      data['Sentiment'][i] = \"Neutral\"\n",
    "    else:\n",
    "      if 'Neutral' in sentiment_dict.keys():\n",
    "        x = sentiment_dict.pop('Neutral')\n",
    "      for k in sentiment_dict:\n",
    "        weight = emotions_dict[k][0]\n",
    "        sentiment_dict[k] *= weight\n",
    "      answer = max(sentiment_dict, key=sentiment_dict.get)\n",
    "      data['Sentiment'][i] = answer"
   ]
  },
  {
   "cell_type": "code",
   "execution_count": 33,
   "metadata": {
    "id": "AFOIGP_wcNAm"
   },
   "outputs": [],
   "source": [
    "findSentiment(data)"
   ]
  },
  {
   "cell_type": "code",
   "execution_count": 34,
   "metadata": {
    "colab": {
     "base_uri": "https://localhost:8080/",
     "height": 639
    },
    "id": "Ug3WzBzKPSQb",
    "outputId": "e8ef2cdc-13da-48d4-b032-fe1fd5b52353"
   },
   "outputs": [
    {
     "data": {
      "text/html": [
       "<div>\n",
       "<style scoped>\n",
       "    .dataframe tbody tr th:only-of-type {\n",
       "        vertical-align: middle;\n",
       "    }\n",
       "\n",
       "    .dataframe tbody tr th {\n",
       "        vertical-align: top;\n",
       "    }\n",
       "\n",
       "    .dataframe thead th {\n",
       "        text-align: right;\n",
       "    }\n",
       "</style>\n",
       "<table border=\"1\" class=\"dataframe\">\n",
       "  <thead>\n",
       "    <tr style=\"text-align: right;\">\n",
       "      <th></th>\n",
       "      <th>Datetime</th>\n",
       "      <th>Tweet</th>\n",
       "      <th>Hashtag</th>\n",
       "      <th>Cleaned Tweet</th>\n",
       "      <th>Sentiment</th>\n",
       "    </tr>\n",
       "  </thead>\n",
       "  <tbody>\n",
       "    <tr>\n",
       "      <th>0</th>\n",
       "      <td>2020-08-23 08:23:04</td>\n",
       "      <td>Come What May !\\n#sundayvibes #SundayMorning #...</td>\n",
       "      <td>#coronavirus</td>\n",
       "      <td>Come What May sundayvibes SundayMorning COVID1...</td>\n",
       "      <td>Neutral</td>\n",
       "    </tr>\n",
       "    <tr>\n",
       "      <th>1</th>\n",
       "      <td>2020-08-23 08:23:01</td>\n",
       "      <td>47-year-old  with heart condition has died due...</td>\n",
       "      <td>#coronavirus</td>\n",
       "      <td>47 year old heart condition died due Covid 19 ...</td>\n",
       "      <td>Neutral</td>\n",
       "    </tr>\n",
       "    <tr>\n",
       "      <th>2</th>\n",
       "      <td>2020-08-23 08:22:53</td>\n",
       "      <td>#Coronavirus : New 10,000 fines for organisers...</td>\n",
       "      <td>#coronavirus</td>\n",
       "      <td>Coronavirus New 10 000 fine organiser illegal ...</td>\n",
       "      <td>Neutral</td>\n",
       "    </tr>\n",
       "    <tr>\n",
       "      <th>3</th>\n",
       "      <td>2020-08-23 08:22:40</td>\n",
       "      <td>#Devotees flout #SocialDistancing norms while ...</td>\n",
       "      <td>#coronavirus</td>\n",
       "      <td>Devotees flout SocialDistancing norm immersing...</td>\n",
       "      <td>Neutral</td>\n",
       "    </tr>\n",
       "    <tr>\n",
       "      <th>4</th>\n",
       "      <td>2020-08-23 08:22:36</td>\n",
       "      <td>ICYMI: President Trump today will hold a press...</td>\n",
       "      <td>#coronavirus</td>\n",
       "      <td>ICYMI President Trump today hold press confere...</td>\n",
       "      <td>Neutral</td>\n",
       "    </tr>\n",
       "    <tr>\n",
       "      <th>5</th>\n",
       "      <td>2020-08-23 08:22:34</td>\n",
       "      <td>@BBCNews Chris Whitty says kids safe at #schoo...</td>\n",
       "      <td>#coronavirus</td>\n",
       "      <td>Chris Whitty say kid safe school caught Covid1...</td>\n",
       "      <td>happy</td>\n",
       "    </tr>\n",
       "    <tr>\n",
       "      <th>6</th>\n",
       "      <td>2020-08-23 08:22:24</td>\n",
       "      <td>#Jordan arrests 1,000 #teachers in crackdown o...</td>\n",
       "      <td>#coronavirus</td>\n",
       "      <td>Jordan arrest 1 000 teacher crackdown union   ...</td>\n",
       "      <td>Neutral</td>\n",
       "    </tr>\n",
       "    <tr>\n",
       "      <th>7</th>\n",
       "      <td>2020-08-23 08:22:01</td>\n",
       "      <td>I've been on a 14 day quarantine. Let me tell ...</td>\n",
       "      <td>#coronavirus</td>\n",
       "      <td>I ve 14 day quarantine Let tell late I going w...</td>\n",
       "      <td>Neutral</td>\n",
       "    </tr>\n",
       "    <tr>\n",
       "      <th>8</th>\n",
       "      <td>2020-08-23 08:21:44</td>\n",
       "      <td>I Know I am not alone \\n\\n@PhysicswallahAP #co...</td>\n",
       "      <td>#coronavirus</td>\n",
       "      <td>I Know I not alone PhysicswallahAP coronavirus...</td>\n",
       "      <td>negative</td>\n",
       "    </tr>\n",
       "    <tr>\n",
       "      <th>9</th>\n",
       "      <td>2020-08-23 08:21:08</td>\n",
       "      <td>Coronavirus - South Africa: Total number of CO...</td>\n",
       "      <td>#coronavirus</td>\n",
       "      <td>Coronavirus South Africa Total number COVID 19...</td>\n",
       "      <td>Neutral</td>\n",
       "    </tr>\n",
       "    <tr>\n",
       "      <th>10</th>\n",
       "      <td>2020-08-23 08:20:54</td>\n",
       "      <td>Happy Sunday everyone. I hope you have a restf...</td>\n",
       "      <td>#coronavirus</td>\n",
       "      <td>Happy Sunday everyone I hope restful amp relax...</td>\n",
       "      <td>happy</td>\n",
       "    </tr>\n",
       "    <tr>\n",
       "      <th>11</th>\n",
       "      <td>2020-08-23 08:20:30</td>\n",
       "      <td>\"In the future, I believe this misbegotten epi...</td>\n",
       "      <td>#coronavirus</td>\n",
       "      <td>In future I believe misbegotten episode regard...</td>\n",
       "      <td>Neutral</td>\n",
       "    </tr>\n",
       "    <tr>\n",
       "      <th>12</th>\n",
       "      <td>2020-08-23 08:20:15</td>\n",
       "      <td>#Healthcare \\n#Health \\n#Wellness \\n#WhiteHous...</td>\n",
       "      <td>#coronavirus</td>\n",
       "      <td>Healthcare Health Wellness WhiteHouse UnitedSt...</td>\n",
       "      <td>Neutral</td>\n",
       "    </tr>\n",
       "    <tr>\n",
       "      <th>13</th>\n",
       "      <td>2020-08-23 08:20:04</td>\n",
       "      <td>https://t.co/TlstvdVGML: 'There is a sense tha...</td>\n",
       "      <td>#coronavirus</td>\n",
       "      <td>There sense people weary life restricted due</td>\n",
       "      <td>sad</td>\n",
       "    </tr>\n",
       "    <tr>\n",
       "      <th>14</th>\n",
       "      <td>2020-08-23 08:19:57</td>\n",
       "      <td>@kylamb8 @Barnes_Law True the #CFR fatality ra...</td>\n",
       "      <td>#coronavirus</td>\n",
       "      <td>True CFR fatality rate get infect quite differ...</td>\n",
       "      <td>confused</td>\n",
       "    </tr>\n",
       "    <tr>\n",
       "      <th>15</th>\n",
       "      <td>2020-08-23 08:19:55</td>\n",
       "      <td>TO AVOID THE MARK OF THE BEAST, WE MUST KEEP T...</td>\n",
       "      <td>#coronavirus</td>\n",
       "      <td>TO AVOID THE MARK OF THE BEAST WE MUST KEEP TH...</td>\n",
       "      <td>Neutral</td>\n",
       "    </tr>\n",
       "    <tr>\n",
       "      <th>16</th>\n",
       "      <td>2020-08-23 08:19:41</td>\n",
       "      <td>#Coronavirus --- Death Toll Passes 175,000 as ...</td>\n",
       "      <td>#coronavirus</td>\n",
       "      <td>Coronavirus  Death Toll Passes 175 000 Univers...</td>\n",
       "      <td>Neutral</td>\n",
       "    </tr>\n",
       "    <tr>\n",
       "      <th>17</th>\n",
       "      <td>2020-08-23 08:19:40</td>\n",
       "      <td>Itne Dr ki jaan chali gayi akele delhi me aur ...</td>\n",
       "      <td>#coronavirus</td>\n",
       "      <td>Itne Dr ki jaan chali gayi akele delhi aur ind...</td>\n",
       "      <td>Neutral</td>\n",
       "    </tr>\n",
       "    <tr>\n",
       "      <th>18</th>\n",
       "      <td>2020-08-23 08:19:37</td>\n",
       "      <td>@narendramodi #SaveJEE_NEETstudentsPM #SATYAGR...</td>\n",
       "      <td>#coronavirus</td>\n",
       "      <td>SaveJEE NEETstudentsPM SATYAGRAH AgainstExamIn...</td>\n",
       "      <td>Neutral</td>\n",
       "    </tr>\n",
       "    <tr>\n",
       "      <th>19</th>\n",
       "      <td>2020-08-23 08:19:34</td>\n",
       "      <td>#CoronavirusIndia \\n21st Aug - #India reports ...</td>\n",
       "      <td>#coronavirus</td>\n",
       "      <td>CoronavirusIndia 21st Aug India report 70067 n...</td>\n",
       "      <td>Neutral</td>\n",
       "    </tr>\n",
       "  </tbody>\n",
       "</table>\n",
       "</div>"
      ],
      "text/plain": [
       "               Datetime                                              Tweet  \\\n",
       "0   2020-08-23 08:23:04  Come What May !\\n#sundayvibes #SundayMorning #...   \n",
       "1   2020-08-23 08:23:01  47-year-old  with heart condition has died due...   \n",
       "2   2020-08-23 08:22:53  #Coronavirus : New 10,000 fines for organisers...   \n",
       "3   2020-08-23 08:22:40  #Devotees flout #SocialDistancing norms while ...   \n",
       "4   2020-08-23 08:22:36  ICYMI: President Trump today will hold a press...   \n",
       "5   2020-08-23 08:22:34  @BBCNews Chris Whitty says kids safe at #schoo...   \n",
       "6   2020-08-23 08:22:24  #Jordan arrests 1,000 #teachers in crackdown o...   \n",
       "7   2020-08-23 08:22:01  I've been on a 14 day quarantine. Let me tell ...   \n",
       "8   2020-08-23 08:21:44  I Know I am not alone \\n\\n@PhysicswallahAP #co...   \n",
       "9   2020-08-23 08:21:08  Coronavirus - South Africa: Total number of CO...   \n",
       "10  2020-08-23 08:20:54  Happy Sunday everyone. I hope you have a restf...   \n",
       "11  2020-08-23 08:20:30  \"In the future, I believe this misbegotten epi...   \n",
       "12  2020-08-23 08:20:15  #Healthcare \\n#Health \\n#Wellness \\n#WhiteHous...   \n",
       "13  2020-08-23 08:20:04  https://t.co/TlstvdVGML: 'There is a sense tha...   \n",
       "14  2020-08-23 08:19:57  @kylamb8 @Barnes_Law True the #CFR fatality ra...   \n",
       "15  2020-08-23 08:19:55  TO AVOID THE MARK OF THE BEAST, WE MUST KEEP T...   \n",
       "16  2020-08-23 08:19:41  #Coronavirus --- Death Toll Passes 175,000 as ...   \n",
       "17  2020-08-23 08:19:40  Itne Dr ki jaan chali gayi akele delhi me aur ...   \n",
       "18  2020-08-23 08:19:37  @narendramodi #SaveJEE_NEETstudentsPM #SATYAGR...   \n",
       "19  2020-08-23 08:19:34  #CoronavirusIndia \\n21st Aug - #India reports ...   \n",
       "\n",
       "         Hashtag                                      Cleaned Tweet Sentiment  \n",
       "0   #coronavirus  Come What May sundayvibes SundayMorning COVID1...   Neutral  \n",
       "1   #coronavirus  47 year old heart condition died due Covid 19 ...   Neutral  \n",
       "2   #coronavirus  Coronavirus New 10 000 fine organiser illegal ...   Neutral  \n",
       "3   #coronavirus  Devotees flout SocialDistancing norm immersing...   Neutral  \n",
       "4   #coronavirus  ICYMI President Trump today hold press confere...   Neutral  \n",
       "5   #coronavirus  Chris Whitty say kid safe school caught Covid1...     happy  \n",
       "6   #coronavirus  Jordan arrest 1 000 teacher crackdown union   ...   Neutral  \n",
       "7   #coronavirus  I ve 14 day quarantine Let tell late I going w...   Neutral  \n",
       "8   #coronavirus  I Know I not alone PhysicswallahAP coronavirus...  negative  \n",
       "9   #coronavirus  Coronavirus South Africa Total number COVID 19...   Neutral  \n",
       "10  #coronavirus  Happy Sunday everyone I hope restful amp relax...     happy  \n",
       "11  #coronavirus  In future I believe misbegotten episode regard...   Neutral  \n",
       "12  #coronavirus  Healthcare Health Wellness WhiteHouse UnitedSt...   Neutral  \n",
       "13  #coronavirus       There sense people weary life restricted due       sad  \n",
       "14  #coronavirus  True CFR fatality rate get infect quite differ...  confused  \n",
       "15  #coronavirus  TO AVOID THE MARK OF THE BEAST WE MUST KEEP TH...   Neutral  \n",
       "16  #coronavirus  Coronavirus  Death Toll Passes 175 000 Univers...   Neutral  \n",
       "17  #coronavirus  Itne Dr ki jaan chali gayi akele delhi aur ind...   Neutral  \n",
       "18  #coronavirus  SaveJEE NEETstudentsPM SATYAGRAH AgainstExamIn...   Neutral  \n",
       "19  #coronavirus  CoronavirusIndia 21st Aug India report 70067 n...   Neutral  "
      ]
     },
     "execution_count": 34,
     "metadata": {},
     "output_type": "execute_result"
    }
   ],
   "source": [
    "data.head(20)"
   ]
  },
  {
   "cell_type": "markdown",
   "metadata": {
    "id": "eC64QM4wWRBI"
   },
   "source": [
    "# Visulaisation"
   ]
  },
  {
   "cell_type": "code",
   "execution_count": null,
   "metadata": {
    "colab": {
     "base_uri": "https://localhost:8080/",
     "height": 318
    },
    "id": "aDa-D_TpWTiD",
    "outputId": "cc31bf1e-c840-41fe-f47b-ce55aa165239"
   },
   "outputs": [
    {
     "name": "stdout",
     "output_type": "stream",
     "text": [
      "{'confused': 3281, 'Neutral': 3271, 'happy': 998, 'negative': 496, 'sad': 257, 'positive': 965, 'depression': 500, 'hurt': 93, 'anger': 171, 'fear': 64, 'lonliness': 226}\n"
     ]
    },
    {
     "data": {
      "image/png": "[encoded data removed]",
      "text/plain": [
       "<Figure size 432x288 with 1 Axes>"
      ]
     },
     "metadata": {
      "needs_background": "light",
      "tags": []
     },
     "output_type": "display_data"
    }
   ],
   "source": [
    "# bar chart\n",
    "import matplotlib.pyplot as plt\n",
    "import numpy as np\n",
    "from collections import Counter\n",
    "\n",
    "data_new = data[1:20]\n",
    "data_new.head(20)\n",
    "\n",
    "sentiments = list(data['Sentiment'])\n",
    "sentiments = dict(Counter(sentiments))\n",
    "print(sentiments)\n",
    "\n",
    "emotions = sentiments.keys()\n",
    "freq = sentiments.values()\n",
    "plt.bar(emotions, freq)\n",
    "plt.xticks(rotation=45)\n",
    "plt.show()"
   ]
  },
  {
   "cell_type": "code",
   "execution_count": null,
   "metadata": {
    "colab": {
     "base_uri": "https://localhost:8080/",
     "height": 319
    },
    "id": "H1AAZZ_ibiAi",
    "outputId": "0dfcb37e-4e08-42ad-b8cd-3a98505ad839"
   },
   "outputs": [
    {
     "data": {
      "image/png": "[encoded data removed]",
      "text/plain": [
       "<Figure size 432x288 with 1 Axes>"
      ]
     },
     "metadata": {
      "tags": []
     },
     "output_type": "display_data"
    }
   ],
   "source": [
    "# pie chart\n",
    "fig = plt.figure()\n",
    "ax = fig.add_axes([0,0,1,1])\n",
    "ax.axis('equal')\n",
    "ax.pie(freq, labels = emotions,autopct='%1.2f%%')\n",
    "plt.show()"
   ]
  },
  {
   "cell_type": "code",
   "execution_count": null,
   "metadata": {
    "colab": {
     "base_uri": "https://localhost:8080/",
     "height": 54
    },
    "id": "1z9iTG6qf79d",
    "outputId": "207de9b1-67e3-477d-ca70-80208c98099f"
   },
   "outputs": [
    {
     "data": {
      "text/plain": [
       "dict_values([[0.4, ['happy', 'amazed', 'acknowledgement', 'admiration', 'alive', 'amusement', 'appreciation', 'awe', 'blissful', 'calm', 'cheerful', 'confident', 'content', 'delight', 'determination', 'elation', 'ecstatic', 'energetic', 'enthusiastic', 'excitement', 'exuberant', 'fantastic', 'great', 'gay', 'joyous', 'lucky', 'fortunate', 'delighted', 'overjoyed', 'gleeful', 'thankful', 'important', 'festive', 'ecstatic', 'satisfied', 'glad', 'cheerful', 'sunny', 'merry', 'elated', 'jubilant\\nflattery', 'fortunate', 'fulfillment', 'good', 'grateful', 'happy', 'hopeful', 'joyful', 'justification', 'optimistic', 'passionate', 'peaceful', 'pleasure', 'relaxation', 'relief', 'resolve', 'respect', 'satisfaction', 'secure', 'sensual', 'spiritual', 'terrific', 'thankful', 'tranquil', 'validation', 'playful', 'courageous', 'energetic', 'liberate', 'optimistic', 'provocative', 'impulsive', 'free', 'frisky', 'animate', 'spirited', 'thrill', 'wonderful', 'great', 'gay', 'joyous', 'lucky', 'fortunate', 'delighted', 'overjoyed', 'gleeful', 'thankful', 'important', 'festive', 'ecstatic', 'satisfied', 'glad', 'cheerful', 'sunny', 'merry', 'elated', 'jubilant', 'delighted', 'ebullient', 'ecstatic', 'elated', 'energetic', 'enthusiasticeuphoric', 'excited', 'exhilarate', 'overjoyed', 'thrill', 'ticklepink', 'vibrant', 'zippy', 'aglow', 'buoyant', 'cheerful', 'elvate', 'gleeful', 'happy', 'inhighspirit', 'jovial', 'light-hearted', 'lively', 'merry', 'ridehigh', 'sparkle', 'content', 'cool', 'fine', 'genial', 'glad', 'gratified', 'keen', 'pleasant', 'pleased', 'satisfied', 'serene', 'safe']], [0.4, ['sad', 'alienation', 'boredom', 'concern', 'condemnation', 'depression', 'devastation', 'disappointment', 'discouragement', 'disgrace', 'disillusionment', 'dismal', 'disregard', 'defeat', 'dejection', 'demoralization', 'distraught', 'exhaustion', 'helpless', 'hopeless', 'humble', 'hurt', 'inadequate', 'isolation', 'lonely', 'gloomy', 'grievous', 'guilty', 'hopeless', 'miserable', 'misunderstanding', 'mournful', 'neglect', 'painful', 'regretful', 'rejection', 'shame', 'sorry', 'terrible', 'tired', 'uneasy', 'unhappy', 'unlovable', 'invalidation', 'upset', 'weary', 'worthless', 'tearful', 'sorrowful', 'pain', 'grief', 'anguish', 'desolate', 'desperate', 'pessimistic', 'unhappy', 'lonely', 'grieve', 'mournful', 'dismayed', 'abash', 'debase', 'degrade', 'delinquent', 'depraved', 'disgrace', 'evil', 'expose', 'humiliate', 'judge', 'mortify', 'shamed', 'sinful', 'wicked', 'wrong', 'apologetic', 'ashamed', 'contrite', 'culpable', 'demean', 'downhearted', 'fluster', 'guilty', 'penitent', 'regretful', 'remorseful', 'repentant', 'shamefaced', 'sorrowful', 'sorry', 'bashful', 'blush', 'chagrin', 'chasten', 'crestfallen', 'embarrassed', 'hesitant', 'humble', 'meek', 'regretful', 'reluctant', 'sheepish']], [0.6, ['anger', 'agitation', 'angry', 'annoyance', 'anxious', 'aggravation', 'betrayal', 'bitter', 'coercion', 'confusion', 'control', 'critical', 'deceive', 'disgust', 'dishonor', 'dismay', 'displeasure', 'distraught', 'domination', 'enrage', 'envious', 'exasperation', 'fed  up', 'frustration', 'furious', 'harassment', 'hostile', 'humiliation', 'impatient', 'indignant', 'irritation', 'jealous', 'misunderstood', 'nervous', 'offensive', 'patronization', 'rage', 'rebellious', 'repulsion', 'resentful', 'ridicule', 'sabotage', 'sore', 'upset', 'uptight', 'vengeful', 'vindictive', 'vengeful', 'vindictive', 'irritated', 'enrage', 'hostile', 'insult', 'sore', 'annoyed', 'upset', 'hateful', 'unpleasant', 'offensive', 'bitter', 'aggressive', 'resentful', 'inflame', 'provoke', 'incense', 'infuriate', 'cross', 'workup', 'boil', 'fuming', 'indignant', 'affront', 'belligerent', 'bitter', 'burnup', 'enrage', 'fuming', 'furious', 'incense', 'infuriate', 'intense', 'outraged', 'provoke', 'seethe', 'storm', 'truculent', 'vengeful', 'vindictive', 'aggravate', 'annoyed', 'antagonistic', 'crabby', 'cranky', 'exasperate', 'fuming', 'grouchy', 'hostile', 'ill-temper', 'indignant', 'irate', 'irritated', 'offend', 'ratty', 'resentful', 'sore', 'spiteful', 'testy', 'tickoff', 'bugged', 'chagrin', 'dismayed', 'gall', 'grim', 'impatient', 'irk', 'petulant', 'resentful', 'sullen', 'uptight']], [0.8, ['fear', 'alarm', 'anxious', 'aghast', 'apprehensive', 'awe', 'cautious', 'chicken', 'concern', 'confusion', 'defensive', 'desperate', 'discouragement', 'distress', 'doubtful', 'embarrassment', 'frantic', 'frustration', 'guard', 'guilty', 'helpless', 'hesitant', 'hopeless', 'horror', 'impatient', 'insecure', 'intimidation', 'jealous', 'lonely', 'misunderstood', 'nervous', 'overwhelm', 'panicky', 'regretful', 'reluctant', 'resentful', 'shock', 'shy', 'skeptical', 'suspicious', 'tense', 'threaten', 'timid', 'torment', 'uncertain', 'uncomfortable', 'vulnerable', 'weak', 'worry', 'fearful', 'terrify', 'suspicious', 'anxious', 'alarm', 'panic', 'nervous', 'scared', 'worried', 'frightened', 'timid', 'shaky', 'restless', 'doubtful', 'threaten', 'cowardly', 'quake', 'menaced', 'wary', 'alarm', 'appal', 'desperate', 'distressed', 'frightened', 'horrify', 'intimidate', 'panic', 'paralyzed', 'petrified', 'shock', 'terrify', 'terror-stricken', 'wreck', 'afraid', 'apprehensive', 'awkward', 'defensive', 'fearful', 'fidgety', 'fretful', 'jumpy', 'nervous', 'scared', 'shaky', 'skittish', 'spineless', 'taut', 'threaten', 'trouble', 'wire', 'anxious', 'careful', 'cautious', 'disquiet', 'goose-bumpy', 'shy', 'tense', 'timid', 'uneasy', 'unsure', 'watchful', 'worried']], [0.6, ['crush', 'torment', 'deprive', 'pain', 'torture', 'deject', 'reject', 'injure', 'offend', 'afflict', 'ache', 'victimize', 'heartbroken', 'agonize', 'appal', 'humiliate', 'wrong', 'alienated', 'abuse', 'ache', 'anguish', 'crush', 'degrade', 'destroy', 'devastate', 'discard', 'disgrace', 'forsake', 'humiliate', 'mock', 'punish', 'reject', 'ridicule', 'ruin', 'scorn', 'stab', 'torture', 'belittle', 'cheapen', 'criticize', 'damage', 'depreciate', 'devalue', 'discredit', 'distressed', 'impair', 'injure', 'maligned', 'marred', 'miffed', 'mistreat', 'resentful', 'trouble', 'wound', 'letdown', 'minimize', 'neglect', 'putaway', 'putdown', 'rueful', 'tender', 'touch']], [0.6, ['alienated', 'barren', 'beat', 'bleak', 'bleed', 'deject', 'depressed', 'desolate', 'despondent', 'dismal', 'empty', 'gloomy', 'grieve', 'grim', 'hopeless', 'indespair', 'woeful', 'worried', 'awful', 'blue', 'crestfallen', 'demoralize', 'devalue', 'discourage', 'dispirited', 'distressed', 'downcast', 'downhearted', 'feedup', 'lose', 'melancholy', 'miserable', 'regretful', 'rotten', 'sorrowful', 'tearful', 'upset', 'weepy', 'disappointed', 'down', 'funk', 'glum', 'low', 'moody', 'morose', 'somber', 'subdue', 'uncomfortable', 'unhappy', 'lousy', 'disappointed', 'discourage', 'ashamed', 'powerless', 'diminish', 'guilty', 'dissatisfied', 'miserable', 'detestable', 'repugnant', 'despicable', 'disgust', 'abominable', 'terrible', 'indespair', 'sulky', 'bad']], [0.3, ['understanding', 'confident', 'reliable', 'easy', 'free', 'sympathetic', 'interested', 'satisfied', 'receptive', 'accept', 'kind', 'like', 'love', 'calm', 'peaceful', 'comfortable', 'pleased', 'encourage', 'clever', 'surprised', 'content', 'quiet', 'certain', 'relaxed', 'serene', 'freeandeasy', 'bright', 'bless', 'reassure', 'love', 'considerate', 'affectionate', 'sensitive', 'tender', 'devote', 'attract', 'passionate', 'admiration', 'warm', 'touch', 'sympathy', 'close', 'love', 'comfort', 'drawtoward', 'eager', 'keen', 'earnest', 'intent', 'anxious', 'inspire', 'determine', 'excited', 'enthusiastic', 'bold', 'brave', 'dare', 'challenge', 'optimistic', 're-enforced', 'confident', 'hopeful', 'impulsive', 'free', 'sure', 'certain', 'rebellious', 'unique', 'dynamic', 'tenacious', 'hardy', 'secure', 'know', 'true']], [0.9, ['blah', 'no', 'not', 'donot', 'benot', 'couldnot', 'donot', \"don'\", 'donot', \"should'\", 'mustnot', 'havenot', 'havenot', 'donot', 'havenot', 'benot', 'mightnot', 'neednot', 'shallnot', 'shouldnot', 'benot', 'benot', 'willnot', 'willnot', 'wouldnot', 'cannot', 'donot', 'benot', 'couldnot', 'donot', 'mustnot', 'havenot', 'havenot', 'donot', 'havenot', 'benot', 'mightnot', 'neednot', 'shallnot', 'shouldnot', 'benot', 'benot', 'willnot', 'wouldnot', 'cannot', 'donot', 'arenot', 'couldnot', 'didnot', 'mustnot', 'hasnot', 'havenot', 'doesnot', 'hadnot', 'isnot', 'mightnot', 'neednot', 'shallnot', 'shouldnot', 'wasnot', 'werenot', 'willnot', 'wouldnot', 'cannot', \"'ain'\", \"'aren'\", 'benot', \"'couldn'\", 'couldnot', \"'didn'\", 'donot', \"'doesn'\", 'donot', \"'hadn'\", 'havenot', \"'hasn'\", 'havenot', \"'haven'\", 'havenot', \"'isn'\", 'benot', \"'ma'\", \"'mightn'\", 'mightnot', \"'mustn'\", 'mustnot', \"'needn'\", 'neednot', \"'shan'\", 'shallnot', \"'shouldn'\", 'shouldnot', \"'wasn'\", 'benot', \"'weren'\", 'benot', 'willnot', \"'wouldnot'\", 'wouldnot', 'insensitive', 'dull', 'nonchalant', 'reserved', 'weary', 'bored', 'preoccupy', 'cold', 'disintereste', 'lifeless']], [0.7, ['incapable', 'alone', 'paralyzed', 'fatigue', 'useless', 'inferior', 'vulnerable', 'empty', 'force', 'hesitant', 'despair', 'frustrated', 'distressed', 'woeful', 'pathetic', 'tragic', 'dominate', 'abandon', 'black', 'cutoff', 'desert', 'destroy', 'empty', 'forsake', 'isolate', 'maroon', 'neglect', 'ostracize', 'outcast', 'reject', 'shun', 'alienated', 'alone', 'apart', 'cheerless', 'companionless', 'deject', 'despondent', 'estranged', 'exclude', 'leaveout', 'leftover', 'lonely', 'oppress', 'uncherished', 'blue', 'detach', 'discourage', 'distant', 'insulate', 'melancholy', 'remote', 'separate', 'withdraw']], [0.5, ['upset', 'doubtful', 'uncertain', 'indecisive', 'perplex', 'embarrassed', 'hesitant', 'shy', 'stupefy', 'disillusion', 'unbelieving', 'skeptical', 'distrustful', 'misgive', 'lose', 'unsure', 'uneasy', 'pessimistic', 'tense', 'baffle', 'befuddle', 'chaotic', 'confound', 'confused', 'dizzy', 'fluster', 'rattle', 'reel', 'shock', 'shakeup', 'speechless', 'startled', 'stumped', 'stunned', 'take-aback', 'throw', 'thunderstruck', 'trap', 'adrift', 'ambivalent', 'bewilder', 'puzzle', 'blur', 'disconcert', 'disorder', 'disorganized', 'disquiet', 'disturbed', 'foggy', 'frustrated', 'mislead', 'mistaken', 'misunderstood', 'mixup', 'perplex', 'trouble', 'distract', 'uncertain', 'uncomfortable', 'undecided', 'unsettle', 'unsure', 'get']]])"
      ]
     },
     "execution_count": 217,
     "metadata": {
      "tags": []
     },
     "output_type": "execute_result"
    }
   ],
   "source": [
    "emotions_dict.values()"
   ]
  },
  {
   "cell_type": "code",
   "execution_count": null,
   "metadata": {
    "id": "rB9ldIp3fmnc"
   },
   "outputs": [],
   "source": [
    "from wordcloud import WordCloud, ImageColorGenerator  # Generate wordclouds\n",
    "from PIL import Image  # Load images from files\n",
    "\n",
    "fog_machine = WordCloud()  # Create a wordcloud generator \n",
    "fog_machine.generate(emotions_dict.values())  # Generate the cloud using raw text\n",
    "fog_machine.to_image()"
   ]
  }
 ],
 "metadata": {
  "colab": {
   "collapsed_sections": [
    "kpdNCD9inWZn",
    "gLof7smonfTN",
    "GscZ1bNUodc2",
    "k9TuQ2MXbJ-T",
    "eC64QM4wWRBI"
   ],
   "name": "COVID_Senti_Analysis.ipynb",
   "provenance": []
  },
  "kernelspec": {
   "display_name": "Python 3",
   "language": "python",
   "name": "python3"
  },
  "language_info": {
   "codemirror_mode": {
    "name": "ipython",
    "version": 3
   },
   "file_extension": ".py",
   "mimetype": "text/x-python",
   "name": "python",
   "nbconvert_exporter": "python",
   "pygments_lexer": "ipython3",
   "version": "3.8.3"
  }
 },
 "nbformat": 4,
 "nbformat_minor": 1
}
